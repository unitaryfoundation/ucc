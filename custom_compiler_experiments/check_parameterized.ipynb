{
 "cells": [
  {
   "cell_type": "code",
   "execution_count": 1,
   "metadata": {},
   "outputs": [],
   "source": [
    "from qiskit import QuantumCircuit\n",
    "\n",
    "from qiskit.transpiler.preset_passmanagers import generate_preset_pass_manager\n",
    "pm = generate_preset_pass_manager(optimization_level=3)\n",
    "\n",
    "import time"
   ]
  },
  {
   "cell_type": "code",
   "execution_count": 2,
   "metadata": {},
   "outputs": [
    {
     "name": "stdout",
     "output_type": "stream",
     "text": [
      "          ┌─────────┐     ┌─────────┐\n",
      "q_0: ──■──┤ Rz(0.1) ├──■──┤ Rz(0.2) ├\n",
      "     ┌─┴─┐└─────────┘┌─┴─┐└─────────┘\n",
      "q_1: ┤ X ├───────────┤ X ├───────────\n",
      "     └───┘           └───┘           \n",
      "c: 2/════════════════════════════════\n",
      "                                     \n"
     ]
    }
   ],
   "source": [
    "# Create a quantum circuit with no parameters\n",
    "qc = QuantumCircuit(2, 2)\n",
    "qc.cx(0, 1)\n",
    "qc.rz(0.1, 0)\n",
    "qc.cx(0, 1)\n",
    "qc.rz(0.2, 0)\n",
    "\n",
    "print(qc)"
   ]
  },
  {
   "cell_type": "code",
   "execution_count": 3,
   "metadata": {},
   "outputs": [
    {
     "name": "stdout",
     "output_type": "stream",
     "text": [
      "Time taken:  0.008273601531982422\n",
      "OrderedDict({'rz': 1})\n",
      "Number of 2-qubit gates:  0\n",
      "Number of 1-qubit gates:  1\n",
      "     ┌─────────┐\n",
      "q_0: ┤ Rz(0.3) ├\n",
      "     └─────────┘\n",
      "q_1: ───────────\n",
      "                \n",
      "c: 2/═══════════\n",
      "                \n"
     ]
    }
   ],
   "source": [
    "t1 = time.time()\n",
    "default_qc = pm.run(qc)\n",
    "t2 = time.time()\n",
    "print(\"Time taken: \", t2-t1)\n",
    "\n",
    "# Get gate counts\n",
    "gate_counts = default_qc.count_ops()\n",
    "print(gate_counts)\n",
    "print(\"Number of 2-qubit gates: \", gate_counts.get(\"cz\", 0) + gate_counts.get(\"cx\", 0)) \n",
    "print(\"Number of 1-qubit gates: \", gate_counts.get(\"rz\", 0) + gate_counts.get(\"rx\", 0) + gate_counts.get(\"ry\", 0) + gate_counts.get(\"h\", 0))\n",
    "\n",
    "print(default_qc)"
   ]
  },
  {
   "cell_type": "code",
   "execution_count": 4,
   "metadata": {},
   "outputs": [
    {
     "name": "stdout",
     "output_type": "stream",
     "text": [
      "          ┌────────────┐     ┌────────────┐\n",
      "q_0: ──■──┤ Rz(angle1) ├──■──┤ Rz(angle2) ├\n",
      "     ┌─┴─┐└────────────┘┌─┴─┐└────────────┘\n",
      "q_1: ┤ X ├──────────────┤ X ├──────────────\n",
      "     └───┘              └───┘              \n",
      "c: 2/══════════════════════════════════════\n",
      "                                           \n"
     ]
    }
   ],
   "source": [
    "#Create a quantum circuit with parameters\n",
    "from qiskit.circuit import Parameter\n",
    "\n",
    "#Create parameter vector\n",
    "p1 = Parameter(\"angle1\")\n",
    "p2 = Parameter(\"angle2\")\n",
    "\n",
    "pqc = QuantumCircuit(2, 2)\n",
    "pqc.cx(0, 1)\n",
    "pqc.rz(p1, 0)\n",
    "pqc.cx(0, 1)\n",
    "pqc.rz(p2, 0)\n",
    "\n",
    "print(pqc)\n"
   ]
  },
  {
   "cell_type": "code",
   "execution_count": 5,
   "metadata": {},
   "outputs": [
    {
     "name": "stdout",
     "output_type": "stream",
     "text": [
      "Time taken:  0.028227567672729492\n",
      "OrderedDict({'cx': 2, 'rz': 2})\n",
      "Number of 2-qubit gates:  2\n",
      "Number of 1-qubit gates:  2\n",
      "          ┌────────────┐     ┌────────────┐\n",
      "q_0: ──■──┤ Rz(angle1) ├──■──┤ Rz(angle2) ├\n",
      "     ┌─┴─┐└────────────┘┌─┴─┐└────────────┘\n",
      "q_1: ┤ X ├──────────────┤ X ├──────────────\n",
      "     └───┘              └───┘              \n",
      "c: 2/══════════════════════════════════════\n",
      "                                           \n"
     ]
    }
   ],
   "source": [
    "t1 = time.time()\n",
    "default_pqc = pm.run(pqc)\n",
    "t2 = time.time()\n",
    "print(\"Time taken: \", t2-t1)\n",
    "\n",
    "# Get gate counts\n",
    "gate_counts = default_pqc.count_ops()\n",
    "print(gate_counts)\n",
    "print(\"Number of 2-qubit gates: \", gate_counts.get(\"cz\", 0) + gate_counts.get(\"cx\", 0)) \n",
    "print(\"Number of 1-qubit gates: \", gate_counts.get(\"rz\", 0) + gate_counts.get(\"rx\", 0) + gate_counts.get(\"ry\", 0) + gate_counts.get(\"h\", 0))\n",
    "\n",
    "print(default_pqc)"
   ]
  },
  {
   "cell_type": "markdown",
   "metadata": {},
   "source": [
    "Testing UCC"
   ]
  },
  {
   "cell_type": "code",
   "execution_count": 6,
   "metadata": {},
   "outputs": [
    {
     "name": "stdout",
     "output_type": "stream",
     "text": [
      "     ┌────────────┐┌────────────┐\n",
      "q_0: ┤ Rz(angle1) ├┤ Rz(angle2) ├\n",
      "     └────────────┘└────────────┘\n",
      "q_1: ────────────────────────────\n",
      "                                 \n",
      "c: 2/════════════════════════════\n",
      "                                 \n"
     ]
    }
   ],
   "source": [
    "import sys\n",
    "sys.path.append('../')\n",
    "\n",
    "from ucc.transpilers.ucc_defaults import UCCDefault1\n",
    "\n",
    "ucc_transpiler = UCCDefault1()\n",
    "transpiled_circuit = ucc_transpiler.run(pqc)\n",
    "\n",
    "print(transpiled_circuit)"
   ]
  },
  {
   "cell_type": "code",
   "execution_count": 7,
   "metadata": {},
   "outputs": [
    {
     "ename": "QASM2ExportError",
     "evalue": "'Cannot represent circuits with unbound parameters in OpenQASM 2.'",
     "output_type": "error",
     "traceback": [
      "\u001b[0;31m---------------------------------------------------------------------------\u001b[0m",
      "\u001b[0;31mQASM2ExportError\u001b[0m                          Traceback (most recent call last)",
      "Cell \u001b[0;32mIn[7], line 3\u001b[0m\n\u001b[1;32m      1\u001b[0m \u001b[38;5;28;01mfrom\u001b[39;00m \u001b[38;5;21;01mucc\u001b[39;00m \u001b[38;5;28;01mimport\u001b[39;00m \u001b[38;5;28mcompile\u001b[39m\n\u001b[0;32m----> 3\u001b[0m ucc_qc, gate_counts \u001b[38;5;241m=\u001b[39m \u001b[38;5;28;43mcompile\u001b[39;49m\u001b[43m(\u001b[49m\u001b[43mpqc\u001b[49m\u001b[43m,\u001b[49m\u001b[43m \u001b[49m\u001b[43mmode\u001b[49m\u001b[38;5;241;43m=\u001b[39;49m\u001b[38;5;124;43m\"\u001b[39;49m\u001b[38;5;124;43mqiskit\u001b[39;49m\u001b[38;5;124;43m\"\u001b[39;49m\u001b[43m,\u001b[49m\u001b[43m \u001b[49m\u001b[43mdraw\u001b[49m\u001b[38;5;241;43m=\u001b[39;49m\u001b[38;5;28;43;01mFalse\u001b[39;49;00m\u001b[43m,\u001b[49m\u001b[43m \u001b[49m\u001b[43mget_gate_counts\u001b[49m\u001b[43m \u001b[49m\u001b[38;5;241;43m=\u001b[39;49m\u001b[43m \u001b[49m\u001b[38;5;28;43;01mTrue\u001b[39;49;00m\u001b[43m)\u001b[49m\n",
      "File \u001b[0;32m~/ucc/custom_compiler_experiments/../ucc/compile.py:23\u001b[0m, in \u001b[0;36mcompile\u001b[0;34m(circuit, qasm_version, return_format, mode, draw, get_gate_counts)\u001b[0m\n\u001b[1;32m      5\u001b[0m \u001b[38;5;250m\u001b[39m\u001b[38;5;124;03m\"\"\"\u001b[39;00m\n\u001b[1;32m      6\u001b[0m \u001b[38;5;124;03mProcesses the provided quantum circuit using the QuantumTranslator \u001b[39;00m\n\u001b[1;32m      7\u001b[0m \u001b[38;5;124;03mand compiles it using the Compiler. Why is it called a compiler and not\u001b[39;00m\n\u001b[0;32m   (...)\u001b[0m\n\u001b[1;32m     20\u001b[0m \u001b[38;5;124;03m    variable type : Compiled circuit result \u001b[39;00m\n\u001b[1;32m     21\u001b[0m \u001b[38;5;124;03m\"\"\"\u001b[39;00m\n\u001b[1;32m     22\u001b[0m translator \u001b[38;5;241m=\u001b[39m QuantumTranslator(circuit, return_format)\n\u001b[0;32m---> 23\u001b[0m qasm_code \u001b[38;5;241m=\u001b[39m \u001b[43mtranslator\u001b[49m\u001b[38;5;241;43m.\u001b[39;49m\u001b[43mto_qasm\u001b[49m\u001b[43m(\u001b[49m\u001b[43mcircuit\u001b[49m\u001b[43m,\u001b[49m\u001b[43m \u001b[49m\u001b[43mversion\u001b[49m\u001b[38;5;241;43m=\u001b[39;49m\u001b[43mqasm_version\u001b[49m\u001b[43m)\u001b[49m\n\u001b[1;32m     25\u001b[0m compiled_qasm, gate_counts \u001b[38;5;241m=\u001b[39m UCCTranspiler\u001b[38;5;241m.\u001b[39mtranspile(qasm_code, mode\u001b[38;5;241m=\u001b[39mmode, draw\u001b[38;5;241m=\u001b[39mdraw, get_gate_counts\u001b[38;5;241m=\u001b[39mget_gate_counts)\n\u001b[1;32m     26\u001b[0m \u001b[38;5;66;03m# print(compiled_qasm)\u001b[39;00m\n",
      "File \u001b[0;32m~/ucc/custom_compiler_experiments/../ucc/quantum_translator/quantum_translator.py:62\u001b[0m, in \u001b[0;36mQuantumTranslator.to_qasm\u001b[0;34m(cls, circuit, version)\u001b[0m\n\u001b[1;32m     60\u001b[0m     \u001b[38;5;28;01mreturn\u001b[39;00m TKETInterface\u001b[38;5;241m.\u001b[39mto_qasm(circuit)\n\u001b[1;32m     61\u001b[0m \u001b[38;5;28;01mcase\u001b[39;00m \u001b[38;5;124m'\u001b[39m\u001b[38;5;124mqiskit\u001b[39m\u001b[38;5;124m'\u001b[39m:\n\u001b[0;32m---> 62\u001b[0m     \u001b[38;5;28;01mreturn\u001b[39;00m \u001b[43mQiskitInterface\u001b[49m\u001b[38;5;241;43m.\u001b[39;49m\u001b[43mto_qasm\u001b[49m\u001b[43m(\u001b[49m\u001b[43mcircuit\u001b[49m\u001b[43m,\u001b[49m\u001b[43m \u001b[49m\u001b[43mversion\u001b[49m\u001b[43m)\u001b[49m\n\u001b[1;32m     63\u001b[0m \u001b[38;5;28;01mcase\u001b[39;00m \u001b[38;5;124m'\u001b[39m\u001b[38;5;124mcirq\u001b[39m\u001b[38;5;124m'\u001b[39m:\n\u001b[1;32m     64\u001b[0m     \u001b[38;5;28;01mreturn\u001b[39;00m CirqInterface\u001b[38;5;241m.\u001b[39mto_qasm(circuit)\n",
      "File \u001b[0;32m~/ucc/custom_compiler_experiments/../ucc/quantum_translator/interfaces/qiskit_interface.py:8\u001b[0m, in \u001b[0;36mQiskitInterface.to_qasm\u001b[0;34m(circuit, version)\u001b[0m\n\u001b[1;32m      6\u001b[0m \u001b[38;5;250m\u001b[39m\u001b[38;5;124;03m\"\"\"Translates a Qiskit circuit to OpenQASM string of the version specified.\"\"\"\u001b[39;00m\n\u001b[1;32m      7\u001b[0m \u001b[38;5;28;01mif\u001b[39;00m version \u001b[38;5;241m==\u001b[39m \u001b[38;5;124m'\u001b[39m\u001b[38;5;124m2\u001b[39m\u001b[38;5;124m'\u001b[39m:\n\u001b[0;32m----> 8\u001b[0m     \u001b[38;5;28;01mreturn\u001b[39;00m \u001b[43mqasm2\u001b[49m\u001b[38;5;241;43m.\u001b[39;49m\u001b[43mdumps\u001b[49m\u001b[43m(\u001b[49m\u001b[43mcircuit\u001b[49m\u001b[43m)\u001b[49m\n\u001b[1;32m      9\u001b[0m \u001b[38;5;28;01melif\u001b[39;00m version \u001b[38;5;241m==\u001b[39m\u001b[38;5;124m'\u001b[39m\u001b[38;5;124m3\u001b[39m\u001b[38;5;124m'\u001b[39m:\n\u001b[1;32m     10\u001b[0m     \u001b[38;5;28;01mreturn\u001b[39;00m qasm3\u001b[38;5;241m.\u001b[39mdumps(circuit)\n",
      "File \u001b[0;32m~/qiskit/qiskit/qasm2/export.py:138\u001b[0m, in \u001b[0;36mdumps\u001b[0;34m(circuit)\u001b[0m\n\u001b[1;32m    126\u001b[0m \u001b[38;5;250m\u001b[39m\u001b[38;5;124;03m\"\"\"Export a circuit to an OpenQASM 2 program in a string.\u001b[39;00m\n\u001b[1;32m    127\u001b[0m \n\u001b[1;32m    128\u001b[0m \u001b[38;5;124;03mArgs:\u001b[39;00m\n\u001b[0;32m   (...)\u001b[0m\n\u001b[1;32m    135\u001b[0m \u001b[38;5;124;03m    QASM2ExportError: if the circuit cannot be represented by OpenQASM 2.\u001b[39;00m\n\u001b[1;32m    136\u001b[0m \u001b[38;5;124;03m\"\"\"\u001b[39;00m\n\u001b[1;32m    137\u001b[0m \u001b[38;5;28;01mif\u001b[39;00m circuit\u001b[38;5;241m.\u001b[39mnum_parameters \u001b[38;5;241m>\u001b[39m \u001b[38;5;241m0\u001b[39m:\n\u001b[0;32m--> 138\u001b[0m     \u001b[38;5;28;01mraise\u001b[39;00m QASM2ExportError(\u001b[38;5;124m\"\u001b[39m\u001b[38;5;124mCannot represent circuits with unbound parameters in OpenQASM 2.\u001b[39m\u001b[38;5;124m\"\u001b[39m)\n\u001b[1;32m    140\u001b[0m \u001b[38;5;66;03m# Mapping of instruction name to a pair of the source for a definition, and an OQ2 string\u001b[39;00m\n\u001b[1;32m    141\u001b[0m \u001b[38;5;66;03m# that includes the `gate` or `opaque` statement that defines the gate.\u001b[39;00m\n\u001b[1;32m    142\u001b[0m gates_to_define: collections\u001b[38;5;241m.\u001b[39mOrderedDict[\u001b[38;5;28mstr\u001b[39m, \u001b[38;5;28mtuple\u001b[39m[Instruction, \u001b[38;5;28mstr\u001b[39m]] \u001b[38;5;241m=\u001b[39m (\n\u001b[1;32m    143\u001b[0m     collections\u001b[38;5;241m.\u001b[39mOrderedDict()\n\u001b[1;32m    144\u001b[0m )\n",
      "\u001b[0;31mQASM2ExportError\u001b[0m: 'Cannot represent circuits with unbound parameters in OpenQASM 2.'"
     ]
    }
   ],
   "source": [
    "from ucc import compile\n",
    "\n",
    "ucc_qc, gate_counts = compile(pqc, mode=\"qiskit\", draw=False, get_gate_counts = True)"
   ]
  }
 ],
 "metadata": {
  "kernelspec": {
   "display_name": "qiskit-compiler",
   "language": "python",
   "name": "python3"
  },
  "language_info": {
   "codemirror_mode": {
    "name": "ipython",
    "version": 3
   },
   "file_extension": ".py",
   "mimetype": "text/x-python",
   "name": "python",
   "nbconvert_exporter": "python",
   "pygments_lexer": "ipython3",
   "version": "3.12.4"
  }
 },
 "nbformat": 4,
 "nbformat_minor": 2
}
