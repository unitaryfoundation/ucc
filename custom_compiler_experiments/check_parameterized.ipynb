{
 "cells": [
  {
   "cell_type": "code",
   "execution_count": 1,
   "metadata": {},
   "outputs": [],
   "source": [
    "from qiskit import QuantumCircuit\n",
    "\n",
    "from qiskit.transpiler.preset_passmanagers import generate_preset_pass_manager\n",
    "pm = generate_preset_pass_manager(optimization_level=3)\n",
    "\n",
    "import time"
   ]
  },
  {
   "cell_type": "code",
   "execution_count": 2,
   "metadata": {},
   "outputs": [
    {
     "name": "stdout",
     "output_type": "stream",
     "text": [
      "          ┌─────────┐     ┌─────────┐\n",
      "q_0: ──■──┤ Rz(0.1) ├──■──┤ Rz(0.2) ├\n",
      "     ┌─┴─┐└─────────┘┌─┴─┐└─────────┘\n",
      "q_1: ┤ X ├───────────┤ X ├───────────\n",
      "     └───┘           └───┘           \n",
      "c: 2/════════════════════════════════\n",
      "                                     \n"
     ]
    }
   ],
   "source": [
    "# Create a quantum circuit with no parameters\n",
    "qc = QuantumCircuit(2, 2)\n",
    "qc.cx(0, 1)\n",
    "qc.rz(0.1, 0)\n",
    "qc.cx(0, 1)\n",
    "qc.rz(0.2, 0)\n",
    "\n",
    "\n",
    "print(qc)"
   ]
  },
  {
   "cell_type": "code",
   "execution_count": 3,
   "metadata": {},
   "outputs": [
    {
     "name": "stdout",
     "output_type": "stream",
     "text": [
      "Time taken:  0.01859426498413086\n",
      "OrderedDict({'rz': 1})\n",
      "Number of 2-qubit gates:  0\n",
      "Number of 1-qubit gates:  1\n",
      "     ┌─────────┐\n",
      "q_0: ┤ Rz(0.3) ├\n",
      "     └─────────┘\n",
      "q_1: ───────────\n",
      "                \n",
      "c: 2/═══════════\n",
      "                \n"
     ]
    }
   ],
   "source": [
    "t1 = time.time()\n",
    "default_qc = pm.run(qc)\n",
    "t2 = time.time()\n",
    "print(\"Time taken: \", t2-t1)\n",
    "\n",
    "# Get gate counts\n",
    "gate_counts = default_qc.count_ops()\n",
    "print(gate_counts)\n",
    "print(\"Number of 2-qubit gates: \", gate_counts.get(\"cz\", 0) + gate_counts.get(\"cx\", 0)) \n",
    "print(\"Number of 1-qubit gates: \", gate_counts.get(\"rz\", 0) + gate_counts.get(\"rx\", 0) + gate_counts.get(\"ry\", 0) + gate_counts.get(\"h\", 0))\n",
    "\n",
    "print(default_qc)"
   ]
  },
  {
   "cell_type": "code",
   "execution_count": 4,
   "metadata": {},
   "outputs": [
    {
     "name": "stdout",
     "output_type": "stream",
     "text": [
      "          ┌────────────┐     ┌────────────┐\n",
      "q_0: ──■──┤ Rz(angle1) ├──■──┤ Rz(angle2) ├\n",
      "     ┌─┴─┐└────────────┘┌─┴─┐└────────────┘\n",
      "q_1: ┤ X ├──────────────┤ X ├──────────────\n",
      "     └───┘              └───┘              \n",
      "c: 2/══════════════════════════════════════\n",
      "                                           \n"
     ]
    }
   ],
   "source": [
    "#Create a quantum circuit with parameters\n",
    "from qiskit.circuit import Parameter\n",
    "\n",
    "#Create parameter vector\n",
    "p1 = Parameter(\"angle1\")\n",
    "p2 = Parameter(\"angle2\")\n",
    "\n",
    "pqc = QuantumCircuit(2, 2)\n",
    "pqc.cx(0, 1)\n",
    "pqc.rz(p1, 0)\n",
    "pqc.cx(0, 1)\n",
    "pqc.rz(p2, 0)\n",
    "\n",
    "print(pqc)\n"
   ]
  },
  {
   "cell_type": "code",
   "execution_count": 5,
   "metadata": {},
   "outputs": [
    {
     "name": "stdout",
     "output_type": "stream",
     "text": [
      "Time taken:  0.016770601272583008\n",
      "OrderedDict({'cx': 2, 'rz': 2})\n",
      "Number of 2-qubit gates:  2\n",
      "Number of 1-qubit gates:  2\n",
      "          ┌────────────┐     ┌────────────┐\n",
      "q_0: ──■──┤ Rz(angle1) ├──■──┤ Rz(angle2) ├\n",
      "     ┌─┴─┐└────────────┘┌─┴─┐└────────────┘\n",
      "q_1: ┤ X ├──────────────┤ X ├──────────────\n",
      "     └───┘              └───┘              \n",
      "c: 2/══════════════════════════════════════\n",
      "                                           \n"
     ]
    }
   ],
   "source": [
    "t1 = time.time()\n",
    "default_pqc = pm.run(pqc)\n",
    "t2 = time.time()\n",
    "print(\"Time taken: \", t2-t1)\n",
    "\n",
    "# Get gate counts\n",
    "gate_counts = default_pqc.count_ops()\n",
    "print(gate_counts)\n",
    "print(\"Number of 2-qubit gates: \", gate_counts.get(\"cz\", 0) + gate_counts.get(\"cx\", 0)) \n",
    "print(\"Number of 1-qubit gates: \", gate_counts.get(\"rz\", 0) + gate_counts.get(\"rx\", 0) + gate_counts.get(\"ry\", 0) + gate_counts.get(\"h\", 0))\n",
    "\n",
    "print(default_pqc)"
   ]
  },
  {
   "cell_type": "markdown",
   "metadata": {},
   "source": [
    "Testing UCC"
   ]
  },
  {
   "cell_type": "code",
   "execution_count": 6,
   "metadata": {},
   "outputs": [
    {
     "name": "stdout",
     "output_type": "stream",
     "text": [
      "OrderedDict({'rz': 2})\n",
      "     ┌────────────┐┌────────────┐\n",
      "q_0: ┤ Rz(angle1) ├┤ Rz(angle2) ├\n",
      "     └────────────┘└────────────┘\n",
      "q_1: ────────────────────────────\n",
      "                                 \n",
      "c: 2/════════════════════════════\n",
      "                                 \n"
     ]
    }
   ],
   "source": [
    "import sys\n",
    "sys.path.append('../')\n",
    "\n",
    "from ucc.transpilers.ucc_defaults import UCCDefault1\n",
    "\n",
    "ucc_transpiler = UCCDefault1()\n",
    "transpiled_circuit = ucc_transpiler.run(pqc)\n",
    "\n",
    "print(transpiled_circuit.count_ops())\n",
    "\n",
    "print(transpiled_circuit)\n"
   ]
  },
  {
   "cell_type": "code",
   "execution_count": 7,
   "metadata": {},
   "outputs": [
    {
     "ename": "TypeError",
     "evalue": "UCCTranspiler.transpile() got an unexpected keyword argument 'target'",
     "output_type": "error",
     "traceback": [
      "\u001b[0;31m---------------------------------------------------------------------------\u001b[0m",
      "\u001b[0;31mTypeError\u001b[0m                                 Traceback (most recent call last)",
      "Cell \u001b[0;32mIn[7], line 3\u001b[0m\n\u001b[1;32m      1\u001b[0m \u001b[38;5;28;01mfrom\u001b[39;00m \u001b[38;5;21;01mucc\u001b[39;00m \u001b[38;5;28;01mimport\u001b[39;00m \u001b[38;5;28mcompile\u001b[39m\n\u001b[0;32m----> 3\u001b[0m ucc_qc, gate_counts \u001b[38;5;241m=\u001b[39m \u001b[38;5;28;43mcompile\u001b[39;49m\u001b[43m(\u001b[49m\u001b[43mpqc\u001b[49m\u001b[43m,\u001b[49m\u001b[43m \u001b[49m\u001b[43mmode\u001b[49m\u001b[38;5;241;43m=\u001b[39;49m\u001b[38;5;124;43m\"\u001b[39;49m\u001b[38;5;124;43mqiskit\u001b[39;49m\u001b[38;5;124;43m\"\u001b[39;49m\u001b[43m,\u001b[49m\u001b[43m \u001b[49m\u001b[43mget_gate_counts\u001b[49m\u001b[43m \u001b[49m\u001b[38;5;241;43m=\u001b[39;49m\u001b[43m \u001b[49m\u001b[38;5;28;43;01mTrue\u001b[39;49;00m\u001b[43m)\u001b[49m\n",
      "File \u001b[0;32m~/ucc/custom_compiler_experiments/../ucc/compile.py:26\u001b[0m, in \u001b[0;36mcompile\u001b[0;34m(circuit, return_format, mode, target, get_gate_counts)\u001b[0m\n\u001b[1;32m     23\u001b[0m     return_format \u001b[38;5;241m=\u001b[39m get_program_type_alias(circuit)\n\u001b[1;32m     25\u001b[0m qiskit_circuit \u001b[38;5;241m=\u001b[39m transpile(circuit, \u001b[38;5;124m\"\u001b[39m\u001b[38;5;124mqiskit\u001b[39m\u001b[38;5;124m\"\u001b[39m) \n\u001b[0;32m---> 26\u001b[0m compiled_circuit, gate_counts \u001b[38;5;241m=\u001b[39m \u001b[43mUCCTranspiler\u001b[49m\u001b[38;5;241;43m.\u001b[39;49m\u001b[43mtranspile\u001b[49m\u001b[43m(\u001b[49m\u001b[43mqiskit_circuit\u001b[49m\u001b[43m,\u001b[49m\u001b[43m \u001b[49m\u001b[43mmode\u001b[49m\u001b[38;5;241;43m=\u001b[39;49m\u001b[43mmode\u001b[49m\u001b[43m,\u001b[49m\u001b[43m  \u001b[49m\u001b[43mget_gate_counts\u001b[49m\u001b[38;5;241;43m=\u001b[39;49m\u001b[43mget_gate_counts\u001b[49m\u001b[43m,\u001b[49m\u001b[43m \u001b[49m\u001b[43mtarget\u001b[49m\u001b[38;5;241;43m=\u001b[39;49m\u001b[43mtarget\u001b[49m\u001b[43m)\u001b[49m\n\u001b[1;32m     28\u001b[0m final_result \u001b[38;5;241m=\u001b[39m transpile(compiled_circuit, return_format)\n\u001b[1;32m     29\u001b[0m \u001b[38;5;28;01mif\u001b[39;00m get_gate_counts:\n",
      "\u001b[0;31mTypeError\u001b[0m: UCCTranspiler.transpile() got an unexpected keyword argument 'target'"
     ]
    }
   ],
   "source": [
    "from ucc import compile\n",
    "\n",
    "ucc_qc, gate_counts = compile(pqc, mode=\"qiskit\", get_gate_counts = True)"
   ]
  },
  {
   "cell_type": "markdown",
   "metadata": {},
   "source": [
    "VQE ansatz"
   ]
  },
  {
   "cell_type": "code",
   "execution_count": null,
   "metadata": {},
   "outputs": [],
   "source": [
    "from qiskit.circuit import ParameterVector\n",
    "\n",
    "# Generalized Hadamard Test\n",
    "\n",
    "num_qubits = 5\n",
    "num_layers = 1\n",
    "\n",
    "# Create parameterized circuit\n",
    "params = ParameterVector('t', length=num_qubits * num_layers)\n",
    "pqc = QuantumCircuit(num_qubits)\n",
    "\n",
    "param_index = 0 \n",
    "for layer in range(num_layers): \n",
    "    # Add RX rotation for each qubit \n",
    "    for qubit in range(num_qubits): \n",
    "        pqc.rz(params[param_index], qubit) \n",
    "        param_index += 1 \n",
    "    # Add entangling gates (CX) in a linear chain \n",
    "    for qubit in range(num_qubits - 1): \n",
    "        pqc.cx(qubit, qubit + 1)\n",
    "\n",
    "#Edge Impurity\n",
    "param_final = ParameterVector('t_final', length=3)\n",
    "pqc.rz(param_final[0], 0)\n",
    "pqc.rx(param_final[1], 1)\n",
    "pqc.rx(param_final[2], num_qubits - 1)\n",
    "\n",
    "param_index = 0 \n",
    "for layer in range(num_layers): \n",
    "    for qubit in range(num_qubits - 2, -1, -1):\n",
    "        pqc.cx(qubit, qubit + 1)\n",
    "\n",
    "print(pqc.count_ops())\n",
    "print(pqc)\n"
   ]
  },
  {
   "cell_type": "code",
   "execution_count": null,
   "metadata": {},
   "outputs": [],
   "source": [
    "import sys\n",
    "sys.path.append('../')\n",
    "\n",
    "from ucc.transpilers.ucc_defaults import UCCDefault1\n",
    "\n",
    "ucc_transpiler = UCCDefault1()\n",
    "transpiled_circuit = ucc_transpiler.run(pqc)\n",
    "\n",
    "# print(transpiled_circuit)\n",
    "print(transpiled_circuit.count_ops())\n"
   ]
  },
  {
   "cell_type": "code",
   "execution_count": null,
   "metadata": {},
   "outputs": [],
   "source": [
    "from ucc import compile\n",
    "\n",
    "ucc_qc, gate_counts = compile(pqc, mode=\"ucc\", get_gate_counts = True)\n",
    "\n",
    "print(gate_counts)"
   ]
  },
  {
   "cell_type": "code",
   "execution_count": null,
   "metadata": {},
   "outputs": [],
   "source": [
    "#Substitute parameters with random values\n",
    "import numpy as np\n",
    "\n",
    "param_values = np.random.rand(len(params) + len(param_final))\n",
    "param_dict = dict(zip(params, param_values[:len(params)]))\n",
    "param_dict.update({param_final[0]: param_values[-1]})\n",
    "\n",
    "pqc = pqc.assign_parameters(param_dict)\n",
    "\n",
    "print(pqc)"
   ]
  },
  {
   "cell_type": "code",
   "execution_count": null,
   "metadata": {},
   "outputs": [],
   "source": [
    "ucc_qc, gate_counts = compile(pqc, mode=\"ucc\", get_gate_counts = True)\n",
    "\n",
    "print(gate_counts)\n",
    "print(ucc_qc)"
   ]
  }
 ],
 "metadata": {
  "kernelspec": {
   "display_name": "qiskit-compiler",
   "language": "python",
   "name": "python3"
  },
  "language_info": {
   "codemirror_mode": {
    "name": "ipython",
    "version": 3
   },
   "file_extension": ".py",
   "mimetype": "text/x-python",
   "name": "python",
   "nbconvert_exporter": "python",
   "pygments_lexer": "ipython3",
   "version": "3.12.4"
  }
 },
 "nbformat": 4,
 "nbformat_minor": 2
}
