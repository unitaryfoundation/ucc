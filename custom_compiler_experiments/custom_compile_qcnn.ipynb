{
 "cells": [
  {
   "cell_type": "markdown",
   "metadata": {},
   "source": [
    "Quantum Convolutional Neural Network"
   ]
  },
  {
   "cell_type": "markdown",
   "metadata": {},
   "source": [
    "This is a circuit that requires a connectivity map where the distance between the qubits increases exponentially with depth"
   ]
  },
  {
   "cell_type": "code",
   "execution_count": 23,
   "metadata": {},
   "outputs": [],
   "source": [
    "from qiskit import QuantumCircuit\n",
    "\n",
    "import time\n",
    "import numpy as np"
   ]
  },
  {
   "cell_type": "markdown",
   "metadata": {},
   "source": [
    "Define QCNN circuit"
   ]
  },
  {
   "cell_type": "code",
   "execution_count": 24,
   "metadata": {},
   "outputs": [],
   "source": [
    "num_qubits = 4\n",
    "num_layers = int(np.ceil(np.log2(num_qubits)))\n",
    "\n",
    "qc=QuantumCircuit(num_qubits)\n",
    "i_conv=0\n",
    "for i_layer in range(num_layers):\n",
    "    for i_sub_layer in [0 , 2**i_layer]:            \n",
    "        for i_q1 in range(i_sub_layer, num_qubits, 2**(i_layer+1)):\n",
    "            i_q2=2**i_layer+i_q1\n",
    "            if i_q2<num_qubits:\n",
    "                qc.rxx(np.random.rand(), i_q1, i_q2)\n",
    "                qc.ry(np.random.rand(), i_q1)\n",
    "                qc.ry(np.random.rand(), i_q2)\n",
    "                i_conv+=1"
   ]
  },
  {
   "cell_type": "markdown",
   "metadata": {},
   "source": [
    "Optionally print out the circuit"
   ]
  },
  {
   "cell_type": "code",
   "execution_count": 25,
   "metadata": {},
   "outputs": [
    {
     "data": {
      "text/html": [
       "<pre style=\"word-wrap: normal;white-space: pre;background: #fff0;line-height: 1.1;font-family: &quot;Courier New&quot;,Courier,monospace\">     ┌───────────────┐ ┌─────────────┐                                »\n",
       "q_0: ┤0              ├─┤ Ry(0.33251) ├────────────────────────────────»\n",
       "     │  Rxx(0.16964) │ ├─────────────┤┌───────────────┐┌─────────────┐»\n",
       "q_1: ┤1              ├─┤ Ry(0.59386) ├┤0              ├┤ Ry(0.63625) ├»\n",
       "     ├───────────────┴┐├─────────────┤│  Rxx(0.71598) │├─────────────┤»\n",
       "q_2: ┤0               ├┤ Ry(0.10413) ├┤1              ├┤ Ry(0.80983) ├»\n",
       "     │  Rxx(0.031875) │├─────────────┤└───────────────┘└─────────────┘»\n",
       "q_3: ┤1               ├┤ Ry(0.81302) ├────────────────────────────────»\n",
       "     └────────────────┘└─────────────┘                                »\n",
       "«     ┌───────────────┐┌─────────────┐\n",
       "«q_0: ┤0              ├┤ Ry(0.88238) ├\n",
       "«     │               │└─────────────┘\n",
       "«q_1: ┤  Rxx(0.29288) ├───────────────\n",
       "«     │               │┌─────────────┐\n",
       "«q_2: ┤1              ├┤ Ry(0.15394) ├\n",
       "«     └───────────────┘└─────────────┘\n",
       "«q_3: ────────────────────────────────\n",
       "«                                     </pre>"
      ],
      "text/plain": [
       "     ┌───────────────┐ ┌─────────────┐                                »\n",
       "q_0: ┤0              ├─┤ Ry(0.33251) ├────────────────────────────────»\n",
       "     │  Rxx(0.16964) │ ├─────────────┤┌───────────────┐┌─────────────┐»\n",
       "q_1: ┤1              ├─┤ Ry(0.59386) ├┤0              ├┤ Ry(0.63625) ├»\n",
       "     ├───────────────┴┐├─────────────┤│  Rxx(0.71598) │├─────────────┤»\n",
       "q_2: ┤0               ├┤ Ry(0.10413) ├┤1              ├┤ Ry(0.80983) ├»\n",
       "     │  Rxx(0.031875) │├─────────────┤└───────────────┘└─────────────┘»\n",
       "q_3: ┤1               ├┤ Ry(0.81302) ├────────────────────────────────»\n",
       "     └────────────────┘└─────────────┘                                »\n",
       "«     ┌───────────────┐┌─────────────┐\n",
       "«q_0: ┤0              ├┤ Ry(0.88238) ├\n",
       "«     │               │└─────────────┘\n",
       "«q_1: ┤  Rxx(0.29288) ├───────────────\n",
       "«     │               │┌─────────────┐\n",
       "«q_2: ┤1              ├┤ Ry(0.15394) ├\n",
       "«     └───────────────┘└─────────────┘\n",
       "«q_3: ────────────────────────────────\n",
       "«                                     "
      ]
     },
     "execution_count": 25,
     "metadata": {},
     "output_type": "execute_result"
    }
   ],
   "source": [
    "qc.draw()"
   ]
  },
  {
   "cell_type": "markdown",
   "metadata": {},
   "source": [
    "Define backend"
   ]
  },
  {
   "cell_type": "code",
   "execution_count": 26,
   "metadata": {},
   "outputs": [],
   "source": [
    "from qiskit.providers.fake_provider import GenericBackendV2\n",
    "\n",
    "backend = GenericBackendV2(num_qubits=num_qubits, basis_gates = ['rz', 'rx', 'ry', 'cx'])"
   ]
  },
  {
   "cell_type": "markdown",
   "metadata": {},
   "source": [
    "Compile with default passes"
   ]
  },
  {
   "cell_type": "code",
   "execution_count": 27,
   "metadata": {},
   "outputs": [
    {
     "name": "stdout",
     "output_type": "stream",
     "text": [
      "Time taken:  0.10510921478271484\n",
      "OrderedDict({'rz': 16, 'rx': 8, 'cx': 8, 'ry': 4})\n",
      "Number of 2-qubit gates:  8\n",
      "Number of 1-qubit gates:  28\n"
     ]
    }
   ],
   "source": [
    "from qiskit.transpiler.preset_passmanagers import generate_preset_pass_manager\n",
    "default_pm = generate_preset_pass_manager(backend=backend, optimization_level=3)\n",
    "\n",
    "t1 = time.time()\n",
    "default_qc = default_pm.run(qc)\n",
    "t2 = time.time()\n",
    "print(\"Time taken: \", t2-t1)\n",
    "\n",
    "# Get gate counts\n",
    "gate_counts = default_qc.count_ops()\n",
    "print(gate_counts)\n",
    "print(\"Number of 2-qubit gates: \", gate_counts.get(\"cz\", 0) + gate_counts.get(\"cx\", 0)) \n",
    "print(\"Number of 1-qubit gates: \", gate_counts.get(\"rz\", 0) + gate_counts.get(\"rx\", 0) + gate_counts.get(\"ry\", 0))"
   ]
  },
  {
   "cell_type": "code",
   "execution_count": 28,
   "metadata": {},
   "outputs": [],
   "source": [
    "# print(default_qc)"
   ]
  },
  {
   "cell_type": "markdown",
   "metadata": {},
   "source": [
    "UCC"
   ]
  },
  {
   "cell_type": "code",
   "execution_count": 30,
   "metadata": {},
   "outputs": [
    {
     "name": "stdout",
     "output_type": "stream",
     "text": [
      "Time taken:  0.07597589492797852\n",
      "OrderedDict({'rz': 31, 'ry': 23, 'cx': 8})\n",
      "Number of 2-qubit gates:  8\n",
      "Number of 1-qubit gates:  54\n"
     ]
    }
   ],
   "source": [
    "#Test with UCC transpiler\n",
    "import sys\n",
    "sys.path.append('../')\n",
    "\n",
    "from ucc import compile\n",
    "\n",
    "t1 = time.time()\n",
    "ucc_qc, gate_counts = compile(qc, mode=\"ucc\", get_gate_counts = True)\n",
    "t2 = time.time()\n",
    "print(\"Time taken: \", t2-t1)\n",
    "\n",
    "# # Get gate counts\n",
    "print(gate_counts)\n",
    "print(\"Number of 2-qubit gates: \", gate_counts.get(\"cx\", 0))\n",
    "print(\"Number of 1-qubit gates: \", gate_counts.get(\"rz\", 0) + gate_counts.get(\"rx\", 0) + gate_counts.get(\"ry\", 0) + gate_counts.get(\"h\", 0))"
   ]
  },
  {
   "cell_type": "markdown",
   "metadata": {},
   "source": [
    "Create custom compiler"
   ]
  },
  {
   "cell_type": "code",
   "execution_count": null,
   "metadata": {},
   "outputs": [],
   "source": [
    "# from qiskit.transpiler import PassManager\n",
    "# import qiskit.transpiler.passes as passes \n",
    "\n",
    "# custom_pm = PassManager()\n",
    "\n",
    "# custom_pm.append(passes.Collect2qBlocks())\n",
    "# custom_pm.append(passes.ConsolidateBlocks())\n",
    "\n",
    "# # custom_pm.append(passes.Decompose())\n",
    "# # custom_pm.append(passes.Optimize1qGatesDecomposition())\n",
    "\n",
    "# custom_qc = custom_pm.run(qc)\n",
    "\n",
    "# gate_counts = custom_qc.count_ops()\n",
    "# print(gate_counts)\n",
    "\n",
    "# custom_qc.draw()"
   ]
  },
  {
   "cell_type": "code",
   "execution_count": null,
   "metadata": {},
   "outputs": [],
   "source": [
    "# # Get gate counts\n",
    "# gate_counts = custom_qc.count_ops()\n",
    "# print(gate_counts)\n",
    "# print(\"Number of 2-qubit gates: \", gate_counts.get(\"cz\", 0) + gate_counts.get(\"cx\", 0))\n",
    "# print(\"Number of 1-qubit gates: \", gate_counts.get(\"sx\", 0) + gate_counts.get(\"rz\", 0) + gate_counts.get(\"x\", 0))\n"
   ]
  }
 ],
 "metadata": {
  "kernelspec": {
   "display_name": "benchmarks",
   "language": "python",
   "name": "python3"
  },
  "language_info": {
   "codemirror_mode": {
    "name": "ipython",
    "version": 3
   },
   "file_extension": ".py",
   "mimetype": "text/x-python",
   "name": "python",
   "nbconvert_exporter": "python",
   "pygments_lexer": "ipython3",
   "version": "3.12.4"
  }
 },
 "nbformat": 4,
 "nbformat_minor": 2
}
