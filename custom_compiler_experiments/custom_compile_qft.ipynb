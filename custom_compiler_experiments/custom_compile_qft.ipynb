{
 "cells": [
  {
   "cell_type": "code",
   "execution_count": 1,
   "metadata": {},
   "outputs": [],
   "source": [
    "from qiskit_ibm_runtime.fake_provider import FakeTorino\n",
    "from qiskit import QuantumCircuit\n",
    "\n",
    "import time\n",
    "import numpy as np"
   ]
  },
  {
   "cell_type": "code",
   "execution_count": 2,
   "metadata": {},
   "outputs": [],
   "source": [
    "#Define custom qiskit backend of a line of qubits\n",
    "from qiskit.providers.fake_provider import GenericBackendV2\n",
    "from qiskit.transpiler import CouplingMap\n",
    "\n",
    "num_qubits_backend = 8\n",
    "# coupling_map = CouplingMap.from_line(num_qubits_backend)\n",
    "#Ladder of qubits\n",
    "couplinglist = []\n",
    "for i in range(0,num_qubits_backend-1, 2):\n",
    "    if i+2 < num_qubits_backend:\n",
    "        couplinglist.append([i,i+2])\n",
    "    if i+3 < num_qubits_backend:\n",
    "        couplinglist.append([i+1,i+3])\n",
    "    if i+1 < num_qubits_backend:\n",
    "        couplinglist.append([i,i+1])\n",
    "\n",
    "coupling_map = CouplingMap(couplinglist=couplinglist)\n",
    "\n",
    "line_backend = GenericBackendV2(num_qubits=num_qubits_backend, coupling_map=coupling_map, basis_gates=['cx', 'rz', 'rx', 'ry', 'h'])"
   ]
  },
  {
   "cell_type": "code",
   "execution_count": null,
   "metadata": {},
   "outputs": [],
   "source": [
    "print(coupling_map)"
   ]
  },
  {
   "cell_type": "code",
   "execution_count": 4,
   "metadata": {},
   "outputs": [],
   "source": [
    "#QFT circuit\n",
    "num_qubits = 8\n",
    "qc = QuantumCircuit(num_qubits)\n",
    "for i in range(num_qubits):\n",
    "    qc.h(i)\n",
    "    for j in range(i+1, num_qubits):\n",
    "        qc.cp(np.pi/(2**(j-i)), j, i)"
   ]
  },
  {
   "cell_type": "code",
   "execution_count": 5,
   "metadata": {},
   "outputs": [],
   "source": [
    "# qc.draw()"
   ]
  },
  {
   "cell_type": "markdown",
   "metadata": {},
   "source": [
    "Default transpiler"
   ]
  },
  {
   "cell_type": "code",
   "execution_count": null,
   "metadata": {},
   "outputs": [],
   "source": [
    "from qiskit.transpiler.preset_passmanagers import generate_preset_pass_manager\n",
    "default_pm = generate_preset_pass_manager(backend=line_backend, optimization_level=3)\n",
    "\n",
    "t1 = time.time()\n",
    "default_qc = default_pm.run(qc)\n",
    "t2 = time.time()\n",
    "print(\"Time taken: \", t2-t1)\n",
    "\n",
    "# Get gate counts\n",
    "gate_counts = default_qc.count_ops()\n",
    "print(gate_counts)\n",
    "print(\"Number of 2-qubit gates: \", gate_counts.get(\"cz\", 0) + gate_counts.get(\"cx\", 0)) \n",
    "print(\"Number of 1-qubit gates: \", gate_counts.get(\"rz\", 0) + gate_counts.get(\"rx\", 0) + gate_counts.get(\"ry\", 0) + gate_counts.get(\"h\", 0))\n",
    "\n",
    "# default_qc.draw()"
   ]
  },
  {
   "cell_type": "markdown",
   "metadata": {},
   "source": [
    "Transpiler with custom options"
   ]
  },
  {
   "cell_type": "code",
   "execution_count": null,
   "metadata": {},
   "outputs": [],
   "source": [
    "# custom_pm = generate_preset_pass_manager(backend=line_backend, optimization_level=3, layout_method='dense')#, routing_method='sabre')\n",
    "\n",
    "# t1 = time.time()\n",
    "# custom_qc = custom_pm.run(qc)\n",
    "# t2 = time.time()\n",
    "# print(\"Time taken: \", t2-t1)\n",
    "\n",
    "# # Get gate counts\n",
    "# gate_counts = custom_qc.count_ops()\n",
    "# print(gate_counts)\n",
    "# print(\"Number of 2-qubit gates: \", gate_counts.get(\"cz\", 0) + gate_counts.get(\"cx\", 0))\n",
    "# print(\"Number of 1-qubit gates: \", gate_counts.get(\"rz\", 0) + gate_counts.get(\"rx\", 0) + gate_counts.get(\"ry\", 0) + gate_counts.get(\"h\", 0))"
   ]
  },
  {
   "cell_type": "code",
   "execution_count": 8,
   "metadata": {},
   "outputs": [],
   "source": [
    "# #Convert qc to DAG\n",
    "# from qiskit.converters import circuit_to_dag\n",
    "# dag = circuit_to_dag(qc)\n",
    "\n",
    "# #Visualize DAG\n",
    "# from qiskit.visualization import dag_drawer\n",
    "# dag_drawer(dag)"
   ]
  },
  {
   "cell_type": "code",
   "execution_count": 1,
   "metadata": {},
   "outputs": [
    {
     "ename": "TypeError",
     "evalue": "CommutationAnalysis.__init__() got an unexpected keyword argument 'standard_gates'",
     "output_type": "error",
     "traceback": [
      "\u001b[0;31m---------------------------------------------------------------------------\u001b[0m",
      "\u001b[0;31mTypeError\u001b[0m                                 Traceback (most recent call last)",
      "Cell \u001b[0;32mIn[1], line 7\u001b[0m\n\u001b[1;32m      3\u001b[0m sys\u001b[38;5;241m.\u001b[39mpath\u001b[38;5;241m.\u001b[39mappend(\u001b[38;5;124m'\u001b[39m\u001b[38;5;124m../\u001b[39m\u001b[38;5;124m'\u001b[39m)\n\u001b[1;32m      5\u001b[0m \u001b[38;5;28;01mimport\u001b[39;00m \u001b[38;5;21;01mucc\u001b[39;00m\u001b[38;5;21;01m.\u001b[39;00m\u001b[38;5;21;01mtranspilers\u001b[39;00m\u001b[38;5;21;01m.\u001b[39;00m\u001b[38;5;21;01mucc_defaults\u001b[39;00m \u001b[38;5;28;01mas\u001b[39;00m \u001b[38;5;21;01mucc_defaults\u001b[39;00m\n\u001b[0;32m----> 7\u001b[0m ucc_transpiler \u001b[38;5;241m=\u001b[39m \u001b[43mucc_defaults\u001b[49m\u001b[38;5;241;43m.\u001b[39;49m\u001b[43mUCCDefault1\u001b[49m\u001b[43m(\u001b[49m\u001b[43m)\u001b[49m\n\u001b[1;32m      8\u001b[0m t1 \u001b[38;5;241m=\u001b[39m time\u001b[38;5;241m.\u001b[39mtime()\n\u001b[1;32m      9\u001b[0m ucc_qc \u001b[38;5;241m=\u001b[39m ucc_transpiler\u001b[38;5;241m.\u001b[39mrun(qc)\n",
      "File \u001b[0;32m~/ucc/custom_compiler_experiments/../ucc/transpilers/ucc_defaults.py:21\u001b[0m, in \u001b[0;36mUCCDefault1.__init__\u001b[0;34m(self, local_iterations)\u001b[0m\n\u001b[1;32m     14\u001b[0m \u001b[38;5;28mself\u001b[39m\u001b[38;5;241m.\u001b[39mtarget_basis \u001b[38;5;241m=\u001b[39m [\u001b[38;5;124m'\u001b[39m\u001b[38;5;124mrz\u001b[39m\u001b[38;5;124m'\u001b[39m, \u001b[38;5;124m'\u001b[39m\u001b[38;5;124mrx\u001b[39m\u001b[38;5;124m'\u001b[39m, \u001b[38;5;124m'\u001b[39m\u001b[38;5;124mry\u001b[39m\u001b[38;5;124m'\u001b[39m, \u001b[38;5;124m'\u001b[39m\u001b[38;5;124mh\u001b[39m\u001b[38;5;124m'\u001b[39m, \u001b[38;5;124m'\u001b[39m\u001b[38;5;124mcx\u001b[39m\u001b[38;5;124m'\u001b[39m]\n\u001b[1;32m     15\u001b[0m \u001b[38;5;28mself\u001b[39m\u001b[38;5;241m.\u001b[39mspecial_commutations \u001b[38;5;241m=\u001b[39m {\n\u001b[1;32m     16\u001b[0m     (\u001b[38;5;124m\"\u001b[39m\u001b[38;5;124mrx\u001b[39m\u001b[38;5;124m\"\u001b[39m, \u001b[38;5;124m\"\u001b[39m\u001b[38;5;124mcx\u001b[39m\u001b[38;5;124m\"\u001b[39m): {\n\u001b[1;32m     17\u001b[0m         (\u001b[38;5;241m0\u001b[39m,): \u001b[38;5;28;01mFalse\u001b[39;00m,\n\u001b[1;32m     18\u001b[0m         (\u001b[38;5;241m1\u001b[39m,): \u001b[38;5;28;01mTrue\u001b[39;00m,\n\u001b[1;32m     19\u001b[0m     },\n\u001b[1;32m     20\u001b[0m }\n\u001b[0;32m---> 21\u001b[0m \u001b[38;5;28;43mself\u001b[39;49m\u001b[38;5;241;43m.\u001b[39;49m\u001b[43madd_local_passes\u001b[49m\u001b[43m(\u001b[49m\u001b[43mlocal_iterations\u001b[49m\u001b[43m)\u001b[49m\n",
      "File \u001b[0;32m~/ucc/custom_compiler_experiments/../ucc/transpilers/ucc_defaults.py:29\u001b[0m, in \u001b[0;36mUCCDefault1.add_local_passes\u001b[0;34m(self, local_iterations)\u001b[0m\n\u001b[1;32m     26\u001b[0m \u001b[38;5;28mself\u001b[39m\u001b[38;5;241m.\u001b[39mpass_manager\u001b[38;5;241m.\u001b[39mappend(BasisTranslator(sel, target_basis\u001b[38;5;241m=\u001b[39m\u001b[38;5;28mself\u001b[39m\u001b[38;5;241m.\u001b[39mtarget_basis))            \n\u001b[1;32m     27\u001b[0m \u001b[38;5;66;03m# self.pass_manager.append(Optimize1qGates())\u001b[39;00m\n\u001b[1;32m     28\u001b[0m \u001b[38;5;66;03m# self.pass_manager.append(CommutationAnalysis())\u001b[39;00m\n\u001b[0;32m---> 29\u001b[0m \u001b[38;5;28mself\u001b[39m\u001b[38;5;241m.\u001b[39mpass_manager\u001b[38;5;241m.\u001b[39mappend(\u001b[43mCommutativeCancellation\u001b[49m\u001b[43m(\u001b[49m\u001b[43mstandard_gates\u001b[49m\u001b[38;5;241;43m=\u001b[39;49m\u001b[38;5;28;43mself\u001b[39;49m\u001b[38;5;241;43m.\u001b[39;49m\u001b[43mtarget_basis\u001b[49m\u001b[43m,\u001b[49m\u001b[43m \u001b[49m\u001b[43mspecial_commutations\u001b[49m\u001b[38;5;241;43m=\u001b[39;49m\u001b[38;5;28;43mself\u001b[39;49m\u001b[38;5;241;43m.\u001b[39;49m\u001b[43mspecial_commutations\u001b[49m\u001b[43m)\u001b[49m)\n\u001b[1;32m     30\u001b[0m \u001b[38;5;28mself\u001b[39m\u001b[38;5;241m.\u001b[39mpass_manager\u001b[38;5;241m.\u001b[39mappend(Collect2qBlocks())\n\u001b[1;32m     31\u001b[0m \u001b[38;5;28mself\u001b[39m\u001b[38;5;241m.\u001b[39mpass_manager\u001b[38;5;241m.\u001b[39mappend(ConsolidateBlocks(force_consolidate\u001b[38;5;241m=\u001b[39m\u001b[38;5;28;01mTrue\u001b[39;00m))\n",
      "File \u001b[0;32m~/qiskit/qiskit/transpiler/basepasses.py:51\u001b[0m, in \u001b[0;36mMetaPass.__call__\u001b[0;34m(cls, *args, **kwargs)\u001b[0m\n\u001b[1;32m     50\u001b[0m \u001b[38;5;28;01mdef\u001b[39;00m \u001b[38;5;21m__call__\u001b[39m(\u001b[38;5;28mcls\u001b[39m, \u001b[38;5;241m*\u001b[39margs, \u001b[38;5;241m*\u001b[39m\u001b[38;5;241m*\u001b[39mkwargs):\n\u001b[0;32m---> 51\u001b[0m     pass_instance \u001b[38;5;241m=\u001b[39m \u001b[38;5;28;43mtype\u001b[39;49m\u001b[38;5;241;43m.\u001b[39;49m\u001b[38;5;21;43m__call__\u001b[39;49m\u001b[43m(\u001b[49m\u001b[38;5;28;43mcls\u001b[39;49m\u001b[43m,\u001b[49m\u001b[43m \u001b[49m\u001b[38;5;241;43m*\u001b[39;49m\u001b[43margs\u001b[49m\u001b[43m,\u001b[49m\u001b[43m \u001b[49m\u001b[38;5;241;43m*\u001b[39;49m\u001b[38;5;241;43m*\u001b[39;49m\u001b[43mkwargs\u001b[49m\u001b[43m)\u001b[49m\n\u001b[1;32m     52\u001b[0m     pass_instance\u001b[38;5;241m.\u001b[39m_hash \u001b[38;5;241m=\u001b[39m \u001b[38;5;28mhash\u001b[39m(MetaPass\u001b[38;5;241m.\u001b[39m_freeze_init_parameters(\u001b[38;5;28mcls\u001b[39m, args, kwargs))\n\u001b[1;32m     53\u001b[0m     \u001b[38;5;28;01mreturn\u001b[39;00m pass_instance\n",
      "File \u001b[0;32m~/ucc/custom_compiler_experiments/../ucc/transpiler_passes/commutative_cancellation.py:65\u001b[0m, in \u001b[0;36mCommutativeCancellation.__init__\u001b[0;34m(self, basis_gates, target, standard_gates, special_commutations)\u001b[0m\n\u001b[1;32m     62\u001b[0m     \u001b[38;5;28mself\u001b[39m\u001b[38;5;241m.\u001b[39mbasis \u001b[38;5;241m=\u001b[39m \u001b[38;5;28mset\u001b[39m(target\u001b[38;5;241m.\u001b[39moperation_names)\n\u001b[1;32m     64\u001b[0m \u001b[38;5;28mself\u001b[39m\u001b[38;5;241m.\u001b[39m_var_z_map \u001b[38;5;241m=\u001b[39m {\u001b[38;5;124m\"\u001b[39m\u001b[38;5;124mrz\u001b[39m\u001b[38;5;124m\"\u001b[39m: RZGate, \u001b[38;5;124m\"\u001b[39m\u001b[38;5;124mp\u001b[39m\u001b[38;5;124m\"\u001b[39m: PhaseGate, \u001b[38;5;124m\"\u001b[39m\u001b[38;5;124mu1\u001b[39m\u001b[38;5;124m\"\u001b[39m: U1Gate}\n\u001b[0;32m---> 65\u001b[0m \u001b[38;5;28mself\u001b[39m\u001b[38;5;241m.\u001b[39mrequires\u001b[38;5;241m.\u001b[39mappend(\u001b[43mCommutationAnalysis\u001b[49m\u001b[43m(\u001b[49m\u001b[43mstandard_gates\u001b[49m\u001b[38;5;241;43m=\u001b[39;49m\u001b[43mstandard_gates\u001b[49m\u001b[43m,\u001b[49m\u001b[43m \u001b[49m\u001b[43mspecial_commutations\u001b[49m\u001b[38;5;241;43m=\u001b[39;49m\u001b[43mspecial_commutations\u001b[49m\u001b[43m)\u001b[49m)\n",
      "File \u001b[0;32m~/qiskit/qiskit/transpiler/basepasses.py:51\u001b[0m, in \u001b[0;36mMetaPass.__call__\u001b[0;34m(cls, *args, **kwargs)\u001b[0m\n\u001b[1;32m     50\u001b[0m \u001b[38;5;28;01mdef\u001b[39;00m \u001b[38;5;21m__call__\u001b[39m(\u001b[38;5;28mcls\u001b[39m, \u001b[38;5;241m*\u001b[39margs, \u001b[38;5;241m*\u001b[39m\u001b[38;5;241m*\u001b[39mkwargs):\n\u001b[0;32m---> 51\u001b[0m     pass_instance \u001b[38;5;241m=\u001b[39m \u001b[38;5;28;43mtype\u001b[39;49m\u001b[38;5;241;43m.\u001b[39;49m\u001b[38;5;21;43m__call__\u001b[39;49m\u001b[43m(\u001b[49m\u001b[38;5;28;43mcls\u001b[39;49m\u001b[43m,\u001b[49m\u001b[43m \u001b[49m\u001b[38;5;241;43m*\u001b[39;49m\u001b[43margs\u001b[49m\u001b[43m,\u001b[49m\u001b[43m \u001b[49m\u001b[38;5;241;43m*\u001b[39;49m\u001b[38;5;241;43m*\u001b[39;49m\u001b[43mkwargs\u001b[49m\u001b[43m)\u001b[49m\n\u001b[1;32m     52\u001b[0m     pass_instance\u001b[38;5;241m.\u001b[39m_hash \u001b[38;5;241m=\u001b[39m \u001b[38;5;28mhash\u001b[39m(MetaPass\u001b[38;5;241m.\u001b[39m_freeze_init_parameters(\u001b[38;5;28mcls\u001b[39m, args, kwargs))\n\u001b[1;32m     53\u001b[0m     \u001b[38;5;28;01mreturn\u001b[39;00m pass_instance\n",
      "\u001b[0;31mTypeError\u001b[0m: CommutationAnalysis.__init__() got an unexpected keyword argument 'standard_gates'"
     ]
    }
   ],
   "source": [
    "#Test with UCC transpiler\n",
    "import sys\n",
    "sys.path.append('../')\n",
    "\n",
    "import ucc.transpilers.ucc_defaults as ucc_defaults\n",
    "\n",
    "ucc_transpiler = ucc_defaults.UCCDefault1()\n",
    "t1 = time.time()\n",
    "ucc_qc = ucc_transpiler.run(qc)\n",
    "t2 = time.time()\n",
    "print(\"Time taken: \", t2-t1)\n",
    "\n",
    "# Get gate counts\n",
    "gate_counts = ucc_qc.count_ops()\n",
    "print(gate_counts)\n",
    "print(\"Number of 2-qubit gates: \", gate_counts.get(\"cx\", 0))\n",
    "print(\"Number of 1-qubit gates: \", gate_counts.get(\"rz\", 0) + gate_counts.get(\"rx\", 0) + gate_counts.get(\"ry\", 0) + gate_counts.get(\"h\", 0))"
   ]
  },
  {
   "cell_type": "code",
   "execution_count": null,
   "metadata": {},
   "outputs": [],
   "source": [
    "print(ucc_qc)"
   ]
  }
 ],
 "metadata": {
  "kernelspec": {
   "display_name": "benchmarks",
   "language": "python",
   "name": "python3"
  },
  "language_info": {
   "codemirror_mode": {
    "name": "ipython",
    "version": 3
   },
   "file_extension": ".py",
   "mimetype": "text/x-python",
   "name": "python",
   "nbconvert_exporter": "python",
   "pygments_lexer": "ipython3",
   "version": "3.12.4"
  }
 },
 "nbformat": 4,
 "nbformat_minor": 2
}
