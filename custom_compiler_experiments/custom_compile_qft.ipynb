{
 "cells": [
  {
   "cell_type": "code",
   "execution_count": 400,
   "metadata": {},
   "outputs": [],
   "source": [
    "from qiskit_ibm_runtime.fake_provider import FakeTorino\n",
    "from qiskit import QuantumCircuit\n",
    "\n",
    "import time\n",
    "import numpy as np"
   ]
  },
  {
   "cell_type": "code",
   "execution_count": 401,
   "metadata": {},
   "outputs": [],
   "source": [
    "#Define custom qiskit backend of a line of qubits\n",
    "from qiskit.providers.fake_provider import GenericBackendV2\n",
    "from qiskit.transpiler import CouplingMap\n",
    "\n",
    "num_qubits_backend = 8\n",
    "# coupling_map = CouplingMap.from_line(num_qubits_backend)\n",
    "#Ladder of qubits\n",
    "couplinglist = []\n",
    "for i in range(0,num_qubits_backend-1, 2):\n",
    "    if i+2 < num_qubits_backend:\n",
    "        couplinglist.append([i,i+2])\n",
    "    if i+3 < num_qubits_backend:\n",
    "        couplinglist.append([i+1,i+3])\n",
    "    if i+1 < num_qubits_backend:\n",
    "        couplinglist.append([i,i+1])\n",
    "\n",
    "coupling_map = CouplingMap(couplinglist=couplinglist)\n",
    "\n",
    "line_backend = GenericBackendV2(num_qubits=num_qubits_backend, coupling_map=coupling_map, basis_gates=['cx', 'rz', 'rx', 'ry', 'h'])"
   ]
  },
  {
   "cell_type": "code",
   "execution_count": 402,
   "metadata": {},
   "outputs": [
    {
     "name": "stdout",
     "output_type": "stream",
     "text": [
      "[[0, 2], [1, 3], [0, 1], [2, 4], [3, 5], [2, 3], [4, 6], [5, 7], [4, 5], [6, 7]]\n"
     ]
    }
   ],
   "source": [
    "print(coupling_map)"
   ]
  },
  {
   "cell_type": "code",
   "execution_count": 403,
   "metadata": {},
   "outputs": [],
   "source": [
    "#QFT circuit\n",
    "num_qubits = 8\n",
    "qc = QuantumCircuit(num_qubits)\n",
    "for i in range(num_qubits):\n",
    "    qc.h(i)\n",
    "    for j in range(i+1, num_qubits):\n",
    "        qc.cp(np.pi/(2**(j-i)), j, i)"
   ]
  },
  {
   "cell_type": "code",
   "execution_count": 404,
   "metadata": {},
   "outputs": [],
   "source": [
    "# qc.draw()"
   ]
  },
  {
   "cell_type": "markdown",
   "metadata": {},
   "source": [
    "Default transpiler"
   ]
  },
  {
   "cell_type": "code",
   "execution_count": 405,
   "metadata": {},
   "outputs": [
    {
     "name": "stdout",
     "output_type": "stream",
     "text": [
      "Time taken:  0.24357867240905762\n",
      "OrderedDict({'rz': 143, 'cx': 88, 'ry': 76, 'rx': 38, 'h': 12})\n",
      "Number of 2-qubit gates:  88\n",
      "Number of 1-qubit gates:  269\n"
     ]
    }
   ],
   "source": [
    "from qiskit.transpiler.preset_passmanagers import generate_preset_pass_manager\n",
    "default_pm = generate_preset_pass_manager(backend=line_backend, optimization_level=3)\n",
    "\n",
    "t1 = time.time()\n",
    "default_qc = default_pm.run(qc)\n",
    "t2 = time.time()\n",
    "print(\"Time taken: \", t2-t1)\n",
    "\n",
    "# Get gate counts\n",
    "gate_counts = default_qc.count_ops()\n",
    "print(gate_counts)\n",
    "print(\"Number of 2-qubit gates: \", gate_counts.get(\"cz\", 0) + gate_counts.get(\"cx\", 0)) \n",
    "print(\"Number of 1-qubit gates: \", gate_counts.get(\"rz\", 0) + gate_counts.get(\"rx\", 0) + gate_counts.get(\"ry\", 0) + gate_counts.get(\"h\", 0))\n",
    "\n",
    "# default_qc.draw()"
   ]
  },
  {
   "cell_type": "markdown",
   "metadata": {},
   "source": [
    "Transpiler with custom options"
   ]
  },
  {
   "cell_type": "code",
   "execution_count": 406,
   "metadata": {},
   "outputs": [
    {
     "name": "stdout",
     "output_type": "stream",
     "text": [
      "Time taken:  0.08005118370056152\n",
      "OrderedDict({'rz': 133, 'ry': 85, 'cx': 80, 'rx': 30, 'h': 8})\n",
      "Number of 2-qubit gates:  80\n",
      "Number of 1-qubit gates:  256\n"
     ]
    }
   ],
   "source": [
    "custom_pm = generate_preset_pass_manager(backend=line_backend, optimization_level=3, layout_method='trivial')#, routing_method='sabre')\n",
    "\n",
    "t1 = time.time()\n",
    "custom_qc = custom_pm.run(qc)\n",
    "t2 = time.time()\n",
    "print(\"Time taken: \", t2-t1)\n",
    "\n",
    "# Get gate counts\n",
    "gate_counts = custom_qc.count_ops()\n",
    "print(gate_counts)\n",
    "print(\"Number of 2-qubit gates: \", gate_counts.get(\"cz\", 0) + gate_counts.get(\"cx\", 0))\n",
    "print(\"Number of 1-qubit gates: \", gate_counts.get(\"rz\", 0) + gate_counts.get(\"rx\", 0) + gate_counts.get(\"ry\", 0) + gate_counts.get(\"h\", 0))"
   ]
  }
 ],
 "metadata": {
  "kernelspec": {
   "display_name": "benchmarks",
   "language": "python",
   "name": "python3"
  },
  "language_info": {
   "codemirror_mode": {
    "name": "ipython",
    "version": 3
   },
   "file_extension": ".py",
   "mimetype": "text/x-python",
   "name": "python",
   "nbconvert_exporter": "python",
   "pygments_lexer": "ipython3",
   "version": "3.12.4"
  }
 },
 "nbformat": 4,
 "nbformat_minor": 2
}
