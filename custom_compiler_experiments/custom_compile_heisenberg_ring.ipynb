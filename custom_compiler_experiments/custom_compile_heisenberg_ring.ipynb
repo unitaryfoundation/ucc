{
 "cells": [
  {
   "cell_type": "markdown",
   "metadata": {},
   "source": [
    "Evolution under Hamiltonian of Heisenberg interaction in an external field, nearest neighbor line"
   ]
  },
  {
   "cell_type": "markdown",
   "metadata": {},
   "source": [
    "We are choosing a circuit that has a linear connectivity map which is the simplest possible. The implemented circuit uses a lot of single qubit gates to implement spin interaction along the different axes and the goal is to see whether a custom compiler does better at reducing these gates than the default one."
   ]
  },
  {
   "cell_type": "code",
   "execution_count": 19,
   "metadata": {},
   "outputs": [],
   "source": [
    "from qiskit_ibm_runtime.fake_provider import FakeTorino\n",
    "from qiskit import QuantumCircuit\n",
    "\n",
    "backend = FakeTorino()\n",
    "\n",
    "import time\n",
    "import numpy as np"
   ]
  },
  {
   "cell_type": "markdown",
   "metadata": {},
   "source": [
    "Define circuit"
   ]
  },
  {
   "cell_type": "code",
   "execution_count": 20,
   "metadata": {},
   "outputs": [
    {
     "name": "stdout",
     "output_type": "stream",
     "text": [
      "OrderedDict({'cx': 342, 'rz': 285, 'h': 228, 'ry': 228})\n",
      "Number of 2-qubit gates:  342\n",
      "Number of 1-qubit gates:  285\n"
     ]
    }
   ],
   "source": [
    "num_qubits = 20\n",
    "num_layers = 3\n",
    "qc=QuantumCircuit(num_qubits)\n",
    "for i_layer in range(num_layers):\n",
    "    for i in range(num_qubits-1):    \n",
    "        j = (i + 1)\n",
    "    \n",
    "        qc.rz(np.random.rand(), i)\n",
    "        qc.rz(np.random.rand(), j)\n",
    "        \n",
    "        qc.cx(i, j)\n",
    "        qc.rz(0.1, j)\n",
    "        qc.cx(i, j)\n",
    "    \n",
    "        qc.h(i)\n",
    "        qc.h(j)\n",
    "        qc.cx(i, j)\n",
    "        qc.rz(0.1, j)\n",
    "        qc.cx(i, j)\n",
    "        qc.h(i)\n",
    "        qc.h(j)\n",
    "    \n",
    "        qc.ry(np.pi/2, i)\n",
    "        qc.ry(np.pi/2, j)\n",
    "        qc.cx(i, j)\n",
    "        qc.rz(0.1, j)\n",
    "        qc.cx(i, j)\n",
    "        qc.ry(-np.pi/2, i)\n",
    "        qc.ry(-np.pi/2, j)\n",
    "# Get gate counts\n",
    "gate_counts = qc.count_ops()\n",
    "print(gate_counts)\n",
    "print(\"Number of 2-qubit gates: \", gate_counts.get(\"cz\", 0) + gate_counts.get(\"cx\", 0)) \n",
    "print(\"Number of 1-qubit gates: \", gate_counts.get(\"sx\", 0) + gate_counts.get(\"rz\", 0) + gate_counts.get(\"x\", 0))"
   ]
  },
  {
   "cell_type": "markdown",
   "metadata": {},
   "source": [
    "Optionally print out the circuit"
   ]
  },
  {
   "cell_type": "code",
   "execution_count": 21,
   "metadata": {},
   "outputs": [],
   "source": [
    "# qc.draw()"
   ]
  },
  {
   "cell_type": "markdown",
   "metadata": {},
   "source": [
    "Compile with default passes"
   ]
  },
  {
   "cell_type": "code",
   "execution_count": 22,
   "metadata": {},
   "outputs": [
    {
     "name": "stdout",
     "output_type": "stream",
     "text": [
      "Time taken:  0.7366163730621338\n",
      "OrderedDict({'sx': 342, 'rz': 331, 'cz': 114, 'x': 5})\n",
      "Number of 2-qubit gates:  114\n",
      "Number of 1-qubit gates:  678\n"
     ]
    }
   ],
   "source": [
    "from qiskit.transpiler.preset_passmanagers import generate_preset_pass_manager\n",
    "default_pm = generate_preset_pass_manager(backend=backend, optimization_level=3)\n",
    "\n",
    "t1 = time.time()\n",
    "default_qc = default_pm.run(qc)\n",
    "t2 = time.time()\n",
    "print(\"Time taken: \", t2-t1)\n",
    "\n",
    "# Get gate counts\n",
    "gate_counts = default_qc.count_ops()\n",
    "print(gate_counts)\n",
    "print(\"Number of 2-qubit gates: \", gate_counts.get(\"cz\", 0) + gate_counts.get(\"cx\", 0)) \n",
    "print(\"Number of 1-qubit gates: \", gate_counts.get(\"sx\", 0) + gate_counts.get(\"rz\", 0) + gate_counts.get(\"x\", 0))"
   ]
  },
  {
   "cell_type": "markdown",
   "metadata": {},
   "source": [
    "Create custom compiler"
   ]
  },
  {
   "cell_type": "code",
   "execution_count": 23,
   "metadata": {},
   "outputs": [
    {
     "name": "stdout",
     "output_type": "stream",
     "text": [
      "OrderedDict({'unitary': 57})\n"
     ]
    }
   ],
   "source": [
    "from qiskit.transpiler import PassManager\n",
    "import qiskit.transpiler.passes as passes \n",
    "\n",
    "\n",
    "custom_pm = PassManager()\n",
    "\n",
    "custom_pm.append(passes.Optimize1qGatesDecomposition())\n",
    "\n",
    "custom_pm.append(passes.Collect2qBlocks())\n",
    "custom_pm.append(passes.ConsolidateBlocks())\n",
    "\n",
    "# custom_pm.append(passes.Decompose())\n",
    "# custom_pm.append(passes.Optimize1qGates())\n",
    "\n",
    "custom_qc = custom_pm.run(qc)\n",
    "\n",
    "# Get gate counts\n",
    "gate_counts = custom_qc.count_ops()\n",
    "print(gate_counts)\n",
    "\n",
    "# custom_qc.draw()"
   ]
  },
  {
   "cell_type": "code",
   "execution_count": 24,
   "metadata": {},
   "outputs": [
    {
     "name": "stdout",
     "output_type": "stream",
     "text": [
      "OrderedDict({'sx': 342, 'rz': 325, 'cz': 114, 'x': 7})\n",
      "Number of 2-qubit gates:  114\n",
      "Number of 1-qubit gates:  674\n"
     ]
    }
   ],
   "source": [
    "custom_qc = default_pm.run(custom_qc)\n",
    "\n",
    "# Get gate counts\n",
    "gate_counts = custom_qc.count_ops()\n",
    "print(gate_counts)\n",
    "print(\"Number of 2-qubit gates: \", gate_counts.get(\"cz\", 0) + gate_counts.get(\"cx\", 0))\n",
    "print(\"Number of 1-qubit gates: \", gate_counts.get(\"sx\", 0) + gate_counts.get(\"rz\", 0) + gate_counts.get(\"x\", 0))\n"
   ]
  }
 ],
 "metadata": {
  "kernelspec": {
   "display_name": "qml",
   "language": "python",
   "name": "python3"
  },
  "language_info": {
   "codemirror_mode": {
    "name": "ipython",
    "version": 3
   },
   "file_extension": ".py",
   "mimetype": "text/x-python",
   "name": "python",
   "nbconvert_exporter": "python",
   "pygments_lexer": "ipython3",
   "version": "3.12.4"
  }
 },
 "nbformat": 4,
 "nbformat_minor": 2
}
