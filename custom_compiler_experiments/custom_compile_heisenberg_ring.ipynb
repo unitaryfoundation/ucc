{
 "cells": [
  {
   "cell_type": "markdown",
   "metadata": {},
   "source": [
    "Evolution under Hamiltonian of Heisenberg interaction in an external field, nearest neighbor line"
   ]
  },
  {
   "cell_type": "markdown",
   "metadata": {},
   "source": [
    "We are choosing a circuit that has a linear connectivity map which is the simplest possible. The implemented circuit uses a lot of single qubit gates to implement spin interaction along the different axes and the goal is to see whether a custom compiler does better at reducing these gates than the default one."
   ]
  },
  {
   "cell_type": "code",
   "execution_count": 129,
   "metadata": {},
   "outputs": [],
   "source": [
    "from qiskit import QuantumCircuit\n",
    "\n",
    "import time\n",
    "import numpy as np"
   ]
  },
  {
   "cell_type": "markdown",
   "metadata": {},
   "source": [
    "Define circuit"
   ]
  },
  {
   "cell_type": "code",
   "execution_count": 130,
   "metadata": {},
   "outputs": [
    {
     "name": "stdout",
     "output_type": "stream",
     "text": [
      "OrderedDict({'cx': 72, 'rz': 60, 'h': 48, 'ry': 48})\n"
     ]
    }
   ],
   "source": [
    "num_qubits = 5\n",
    "num_layers = 3\n",
    "qc=QuantumCircuit(num_qubits)\n",
    "for i_layer in range(num_layers):\n",
    "    for i in range(num_qubits-1):    \n",
    "        j = (i + 1)\n",
    "    \n",
    "        qc.rz(np.random.rand(), i)\n",
    "        qc.rz(np.random.rand(), j)\n",
    "        \n",
    "        qc.cx(i, j)\n",
    "        qc.rz(0.1, j)\n",
    "        qc.cx(i, j)\n",
    "    \n",
    "        qc.h(i)\n",
    "        qc.h(j)\n",
    "        qc.cx(i, j)\n",
    "        qc.rz(0.1, j)\n",
    "        qc.cx(i, j)\n",
    "        qc.h(i)\n",
    "        qc.h(j)\n",
    "    \n",
    "        qc.ry(np.pi/2, i)\n",
    "        qc.ry(np.pi/2, j)\n",
    "        qc.cx(i, j)\n",
    "        qc.rz(0.1, j)\n",
    "        qc.cx(i, j)\n",
    "        qc.ry(-np.pi/2, i)\n",
    "        qc.ry(-np.pi/2, j)\n",
    "# Get gate counts\n",
    "gate_counts = qc.count_ops()\n",
    "print(gate_counts)"
   ]
  },
  {
   "cell_type": "markdown",
   "metadata": {},
   "source": [
    "Define backend"
   ]
  },
  {
   "cell_type": "code",
   "execution_count": 131,
   "metadata": {},
   "outputs": [],
   "source": [
    "from qiskit.providers.fake_provider import GenericBackendV2\n",
    "\n",
    "backend = GenericBackendV2(num_qubits=num_qubits, basis_gates = ['rz', 'rx', 'ry', 'cx'])"
   ]
  },
  {
   "cell_type": "markdown",
   "metadata": {},
   "source": [
    "Optionally print out the circuit"
   ]
  },
  {
   "cell_type": "code",
   "execution_count": 132,
   "metadata": {},
   "outputs": [],
   "source": [
    "# qc.draw()"
   ]
  },
  {
   "cell_type": "markdown",
   "metadata": {},
   "source": [
    "Compile with default passes"
   ]
  },
  {
   "cell_type": "code",
   "execution_count": 133,
   "metadata": {},
   "outputs": [
    {
     "name": "stdout",
     "output_type": "stream",
     "text": [
      "Time taken:  0.39925265312194824\n",
      "OrderedDict({'rz': 58, 'rx': 40, 'cx': 24, 'ry': 13})\n",
      "Number of 2-qubit gates:  24\n",
      "Number of 1-qubit gates:  111\n"
     ]
    }
   ],
   "source": [
    "from qiskit.transpiler.preset_passmanagers import generate_preset_pass_manager\n",
    "default_pm = generate_preset_pass_manager(backend=backend, optimization_level=3)\n",
    "\n",
    "t1 = time.time()\n",
    "default_qc = default_pm.run(qc)\n",
    "t2 = time.time()\n",
    "print(\"Time taken: \", t2-t1)\n",
    "\n",
    "# Get gate counts\n",
    "gate_counts = default_qc.count_ops()\n",
    "print(gate_counts)\n",
    "print(\"Number of 2-qubit gates: \", gate_counts.get(\"cx\", 0)) \n",
    "print(\"Number of 1-qubit gates: \", gate_counts.get(\"rx\", 0) + gate_counts.get(\"rz\", 0) + gate_counts.get(\"ry\", 0) + gate_counts.get(\"h\", 0))"
   ]
  },
  {
   "cell_type": "code",
   "execution_count": 134,
   "metadata": {},
   "outputs": [],
   "source": [
    "# default_qc.draw()"
   ]
  },
  {
   "cell_type": "code",
   "execution_count": 135,
   "metadata": {},
   "outputs": [
    {
     "name": "stdout",
     "output_type": "stream",
     "text": [
      "global phase: π\n",
      "     ┌─────────────┐ ┌──────────┐       ┌─────────┐  ┌────────────┐»\n",
      "q_0: ┤ Rz(-2.7603) ├─┤ Ry(-π/2) ├──■────┤ Rz(π/2) ├──┤ Ry(3.0416) ├»\n",
      "     ├─────────────┤ ├─────────┬┘┌─┴─┐┌─┴─────────┴─┐├────────────┤»\n",
      "q_1: ┤ Rz(-2.8003) ├─┤ Ry(π/2) ├─┤ X ├┤ Rz(-1.7398) ├┤ Ry(1.5798) ├»\n",
      "     ├─────────────┴┐├─────────┤ └───┘└─────────────┘└────────────┘»\n",
      "q_2: ┤ Rz(0.072702) ├┤ Ry(π/2) ├───────────────────────────────────»\n",
      "     ├─────────────┬┘├─────────┴┐                                  »\n",
      "q_3: ┤ Rz(-1.9201) ├─┤ Ry(-π/2) ├──────────────────────────────────»\n",
      "     ├─────────────┤ ├──────────┤                                  »\n",
      "q_4: ┤ Rz(-1.7639) ├─┤ Ry(-π/2) ├──────────────────────────────────»\n",
      "     └─────────────┘ └──────────┘                                  »\n",
      "«                        ┌──────────────┐┌─────────┐                    »\n",
      "«q_0: ────────────────■──┤ Ry(-0.41001) ├┤ Rz(π/2) ├────────────────────»\n",
      "«     ┌────────────┐┌─┴─┐├─────────────┬┘└┬────────┤       ┌─────────┐  »\n",
      "«q_1: ┤ Rz(1.6768) ├┤ X ├┤ Rx(-0.0794) ├──┤ Rz(-π) ├──■────┤ Rz(π/2) ├──»\n",
      "«     └────────────┘└───┘└─────────────┘  └────────┘┌─┴─┐┌─┴─────────┴─┐»\n",
      "«q_2: ──────────────────────────────────────────────┤ X ├┤ Rz(-1.7398) ├»\n",
      "«                                                   └───┘└─────────────┘»\n",
      "«q_3: ──────────────────────────────────────────────────────────────────»\n",
      "«                                                                       »\n",
      "«q_4: ──────────────────────────────────────────────────────────────────»\n",
      "«                                                                       »\n",
      "«                                                                 »\n",
      "«q_0: ────────────────────────────────────────────────────────────»\n",
      "«     ┌────────────┐                   ┌─────────────┐┌──────────┐»\n",
      "«q_1: ┤ Ry(3.0416) ├────────────────■──┤ Ry(-1.1119) ├┤ Rz(-π/2) ├»\n",
      "«     ├────────────┤┌────────────┐┌─┴─┐└┬───────────┬┘└──────────┘»\n",
      "«q_2: ┤ Ry(1.5798) ├┤ Rz(1.6768) ├┤ X ├─┤ Rx(3.055) ├──────■──────»\n",
      "«     └────────────┘└────────────┘└───┘ └───────────┘    ┌─┴─┐    »\n",
      "«q_3: ───────────────────────────────────────────────────┤ X ├────»\n",
      "«                                                        └───┘    »\n",
      "«q_4: ────────────────────────────────────────────────────────────»\n",
      "«                                                                 »\n",
      "«                      ┌─────────┐  ┌────────────┐                             »\n",
      "«q_0: ───────■─────────┤ Rz(π/2) ├──┤ Ry(3.0416) ├─────────────────────■───────»\n",
      "«          ┌─┴─┐     ┌─┴─────────┴─┐├────────────┤┌────────────┐     ┌─┴─┐     »\n",
      "«q_1: ─────┤ X ├─────┤ Rz(-1.7398) ├┤ Ry(1.5798) ├┤ Rz(1.6768) ├─────┤ X ├─────»\n",
      "«       ┌──┴───┴──┐  └┬────────────┤└────────────┘└────────────┘┌────┴───┴────┐»\n",
      "«q_2: ──┤ Rz(π/2) ├───┤ Ry(3.0416) ├────────────────────■───────┤ Ry(0.28668) ├»\n",
      "«     ┌─┴─────────┴─┐ ├────────────┤┌────────────┐    ┌─┴─┐     └──┬────────┬─┘»\n",
      "«q_3: ┤ Rz(-1.7398) ├─┤ Ry(1.5798) ├┤ Rz(1.6768) ├────┤ X ├────────┤ Rz(-π) ├──»\n",
      "«     └─────────────┘ └────────────┘└────────────┘    └───┘        └────────┘  »\n",
      "«q_4: ─────────────────────────────────────────────────────────────────────────»\n",
      "«                                                                              »\n",
      "«     ┌─────────────┐┌─────────┐                                           »\n",
      "«q_0: ┤ Ry(-2.6443) ├┤ Rz(π/2) ├───────────────────────────────────────────»\n",
      "«     └┬────────────┤└─────────┘  ┌─────────┐  ┌────────────┐              »\n",
      "«q_1: ─┤ Rx(1.6156) ├─────■───────┤ Rz(π/2) ├──┤ Ry(3.0416) ├──────────────»\n",
      "«      └┬──────────┬┘   ┌─┴─┐   ┌─┴─────────┴─┐├────────────┤┌────────────┐»\n",
      "«q_2: ──┤ Rz(-π/2) ├────┤ X ├───┤ Rz(-1.7398) ├┤ Ry(1.5798) ├┤ Rz(1.6768) ├»\n",
      "«     ┌─┴──────────┴┐   └───┘   └─┬─────────┬─┘├────────────┤└────────────┘»\n",
      "«q_3: ┤ Rx(-1.2056) ├─────■───────┤ Rz(π/2) ├──┤ Ry(3.0416) ├──────────────»\n",
      "«     └─────────────┘   ┌─┴─┐   ┌─┴─────────┴─┐├────────────┤┌────────────┐»\n",
      "«q_4: ──────────────────┤ X ├───┤ Rz(-1.7398) ├┤ Ry(1.5798) ├┤ Rz(1.6768) ├»\n",
      "«                       └───┘   └─────────────┘└────────────┘└────────────┘»\n",
      "«                                           ┌─────────┐  ┌────────────┐»\n",
      "«q_0: ─────────────────────────────────■────┤ Rz(π/2) ├──┤ Ry(3.0416) ├»\n",
      "«          ┌─────────────┐┌─────────┐┌─┴─┐┌─┴─────────┴─┐├────────────┤»\n",
      "«q_1: ──■──┤ Ry(0.39406) ├┤ Rz(π/2) ├┤ X ├┤ Rz(-1.7398) ├┤ Ry(1.5798) ├»\n",
      "«     ┌─┴─┐└┬────────────┤└─────────┘└───┘└─┬─────────┬─┘├────────────┤»\n",
      "«q_2: ┤ X ├─┤ Rx(2.2941) ├─────────────■────┤ Rz(π/2) ├──┤ Ry(3.0416) ├»\n",
      "«     └───┘ ├────────────┤┌─────────┐┌─┴─┐┌─┴─────────┴─┐├────────────┤»\n",
      "«q_3: ──■───┤ Ry(1.1621) ├┤ Rz(π/2) ├┤ X ├┤ Rz(-1.7398) ├┤ Ry(1.5798) ├»\n",
      "«     ┌─┴─┐┌┴────────────┤└─────────┘└───┘└─────────────┘└────────────┘»\n",
      "«q_4: ┤ X ├┤ Rx(-1.5872) ├─────────────────────────────────────────────»\n",
      "«     └───┘└─────────────┘                                             »\n",
      "«                          ┌─────────┐    ┌──────────┐                     »\n",
      "«q_0: ────────────────■────┤ Rz(π/2) ├────┤ Ry(-π/2) ├─────────────────────»\n",
      "«     ┌────────────┐┌─┴─┐┌─┴─────────┴──┐ └┬────────┬┘        ┌─────────┐  »\n",
      "«q_1: ┤ Rz(1.6768) ├┤ X ├┤ Rx(-0.27119) ├──┤ Rz(-π) ├────■────┤ Rz(π/2) ├──»\n",
      "«     └────────────┘└───┘├─────────────┬┘ ┌┴────────┴┐ ┌─┴─┐┌─┴─────────┴─┐»\n",
      "«q_2: ────────────────■──┤ Ry(-2.9317) ├──┤ Rz(-π/2) ├─┤ X ├┤ Rz(-1.7398) ├»\n",
      "«     ┌────────────┐┌─┴─┐└──┬────────┬─┘ ┌┴──────────┴┐└───┘└─┬─────────┬─┘»\n",
      "«q_3: ┤ Rz(1.6768) ├┤ X ├───┤ Rz(-π) ├───┤ Rx(-1.982) ├──■────┤ Rz(π/2) ├──»\n",
      "«     └────────────┘└───┘   └────────┘   └────────────┘┌─┴─┐┌─┴─────────┴─┐»\n",
      "«q_4: ─────────────────────────────────────────────────┤ X ├┤ Rz(-1.7398) ├»\n",
      "«                                                      └───┘└─────────────┘»\n",
      "«                                                                     »\n",
      "«q_0: ────────────────────────────────────────────────────────────────»\n",
      "«     ┌────────────┐                     ┌──────────┐ ┌─────────┐     »\n",
      "«q_1: ┤ Ry(3.0416) ├────────────────■────┤ Rz(-π/2) ├─┤ Ry(π/2) ├─────»\n",
      "«     ├────────────┤┌────────────┐┌─┴─┐┌─┴──────────┴┐└─────────┘     »\n",
      "«q_2: ┤ Ry(1.5798) ├┤ Rz(1.6768) ├┤ X ├┤ Rx(-0.3436) ├─────────────■──»\n",
      "«     ├────────────┤└────────────┘└───┘└┬────────────┤┌─────────┐┌─┴─┐»\n",
      "«q_3: ┤ Ry(3.0416) ├────────────────■───┤ Ry(1.0461) ├┤ Rz(π/2) ├┤ X ├»\n",
      "«     ├────────────┤┌────────────┐┌─┴─┐┌┴────────────┤└─────────┘└───┘»\n",
      "«q_4: ┤ Ry(1.5798) ├┤ Rz(1.6768) ├┤ X ├┤ Rx(-1.7353) ├────────────────»\n",
      "«     └────────────┘└────────────┘└───┘└─────────────┘                »\n",
      "«                                                                 »\n",
      "«q_0: ────────────────────────────────────────────────────────────»\n",
      "«                                                                 »\n",
      "«q_1: ────────────────────────────────────────────────────────────»\n",
      "«       ┌─────────┐  ┌────────────┐                   ┌──────────┐»\n",
      "«q_2: ──┤ Rz(π/2) ├──┤ Ry(3.0416) ├────────────────■──┤ Rz(-π/2) ├»\n",
      "«     ┌─┴─────────┴─┐├────────────┤┌────────────┐┌─┴─┐└┬────────┬┘»\n",
      "«q_3: ┤ Rz(-1.7398) ├┤ Ry(1.5798) ├┤ Rz(1.6768) ├┤ X ├─┤ Rz(-π) ├─»\n",
      "«     └─────────────┘└────────────┘└────────────┘└───┘ └────────┘ »\n",
      "«q_4: ────────────────────────────────────────────────────────────»\n",
      "«                                                                 »\n",
      "«                                                                         »\n",
      "«q_0: ────────────────────────────────────────────────────────────────────»\n",
      "«                                                                         »\n",
      "«q_1: ────────────────────────────────────────────────────────────────────»\n",
      "«       ┌──────────┐                                                      »\n",
      "«q_2: ──┤ Ry(-π/2) ├──────────────────────────────────────────────────────»\n",
      "«     ┌─┴──────────┴┐       ┌─────────┐  ┌────────────┐                   »\n",
      "«q_3: ┤ Rx(-1.8913) ├──■────┤ Rz(π/2) ├──┤ Ry(3.0416) ├────────────────■──»\n",
      "«     └─────────────┘┌─┴─┐┌─┴─────────┴─┐├────────────┤┌────────────┐┌─┴─┐»\n",
      "«q_4: ───────────────┤ X ├┤ Rz(-1.7398) ├┤ Ry(1.5798) ├┤ Rz(1.6768) ├┤ X ├»\n",
      "«                    └───┘└─────────────┘└────────────┘└────────────┘└───┘»\n",
      "«                                \n",
      "«q_0: ───────────────────────────\n",
      "«                                \n",
      "«q_1: ───────────────────────────\n",
      "«                                \n",
      "«q_2: ───────────────────────────\n",
      "«     ┌──────────┐  ┌──────────┐ \n",
      "«q_3: ┤ Rz(-π/2) ├──┤ Ry(-π/2) ├─\n",
      "«     ├─────────┬┘┌─┴──────────┴┐\n",
      "«q_4: ┤ Ry(π/2) ├─┤ Rz(-2.1322) ├\n",
      "«     └─────────┘ └─────────────┘\n",
      "Time taken:  0.13929533958435059\n",
      "OrderedDict({'rz': 59, 'ry': 42, 'cx': 24, 'rx': 11})\n",
      "Number of 2-qubit gates:  24\n",
      "Number of 1-qubit gates:  112\n"
     ]
    }
   ],
   "source": [
    "#Test with UCC transpiler\n",
    "\n",
    "import sys\n",
    "sys.path.append('../')\n",
    "\n",
    "from ucc import compile\n",
    "\n",
    "t1 = time.time()\n",
    "ucc_qc, gate_counts = compile(qc, mode=\"ucc\", draw=False, get_gate_counts = True)\n",
    "t2 = time.time()\n",
    "print(\"Time taken: \", t2-t1)\n",
    "\n",
    "# # Get gate counts\n",
    "print(gate_counts)\n",
    "print(\"Number of 2-qubit gates: \", gate_counts.get(\"cx\", 0))\n",
    "print(\"Number of 1-qubit gates: \", gate_counts.get(\"rz\", 0) + gate_counts.get(\"rx\", 0) + gate_counts.get(\"ry\", 0) + gate_counts.get(\"h\", 0))"
   ]
  },
  {
   "cell_type": "markdown",
   "metadata": {},
   "source": [
    "Create custom compiler"
   ]
  },
  {
   "cell_type": "code",
   "execution_count": 136,
   "metadata": {},
   "outputs": [],
   "source": [
    "# from qiskit.transpiler import PassManager\n",
    "# import qiskit.transpiler.passes as passes \n",
    "\n",
    "\n",
    "# custom_pm = PassManager()\n",
    "\n",
    "# custom_pm.append(passes.Optimize1qGatesDecomposition())\n",
    "\n",
    "# custom_pm.append(passes.Collect2qBlocks())\n",
    "# custom_pm.append(passes.ConsolidateBlocks())\n",
    "\n",
    "# # custom_pm.append(passes.Decompose())\n",
    "# # custom_pm.append(passes.Optimize1qGates())\n",
    "\n",
    "# custom_qc = custom_pm.run(qc)\n",
    "\n",
    "# # Get gate counts\n",
    "# gate_counts = custom_qc.count_ops()\n",
    "# print(gate_counts)\n",
    "\n",
    "# # custom_qc.draw()"
   ]
  },
  {
   "cell_type": "code",
   "execution_count": 137,
   "metadata": {},
   "outputs": [],
   "source": [
    "# # Get gate counts\n",
    "# gate_counts = custom_qc.count_ops()\n",
    "# print(gate_counts)\n",
    "# print(\"Number of 2-qubit gates: \", gate_counts.get(\"cz\", 0) + gate_counts.get(\"cx\", 0))\n",
    "# print(\"Number of 1-qubit gates: \", gate_counts.get(\"sx\", 0) + gate_counts.get(\"rz\", 0) + gate_counts.get(\"x\", 0))\n"
   ]
  }
 ],
 "metadata": {
  "kernelspec": {
   "display_name": "qml",
   "language": "python",
   "name": "python3"
  },
  "language_info": {
   "codemirror_mode": {
    "name": "ipython",
    "version": 3
   },
   "file_extension": ".py",
   "mimetype": "text/x-python",
   "name": "python",
   "nbconvert_exporter": "python",
   "pygments_lexer": "ipython3",
   "version": "3.12.4"
  }
 },
 "nbformat": 4,
 "nbformat_minor": 2
}
