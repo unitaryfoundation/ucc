{
 "cells": [
  {
   "cell_type": "markdown",
   "metadata": {},
   "source": [
    "Evolution under Hamiltonian of Heisenberg interaction in an external field, nearest neighbor line"
   ]
  },
  {
   "cell_type": "markdown",
   "metadata": {},
   "source": [
    "We are choosing a circuit that has a linear connectivity map which is the simplest possible. The implemented circuit uses a lot of single qubit gates to implement spin interaction along the different axes and the goal is to see whether a custom compiler does better at reducing these gates than the default one."
   ]
  },
  {
   "cell_type": "code",
   "execution_count": 219,
   "metadata": {},
   "outputs": [],
   "source": [
    "from qiskit import QuantumCircuit\n",
    "\n",
    "import time\n",
    "import numpy as np"
   ]
  },
  {
   "cell_type": "markdown",
   "metadata": {},
   "source": [
    "Define circuit"
   ]
  },
  {
   "cell_type": "code",
   "execution_count": 220,
   "metadata": {},
   "outputs": [
    {
     "name": "stdout",
     "output_type": "stream",
     "text": [
      "OrderedDict({'cx': 342, 'rz': 285, 'h': 228, 'ry': 228})\n"
     ]
    }
   ],
   "source": [
    "num_qubits = 20\n",
    "num_layers = 3\n",
    "qc=QuantumCircuit(num_qubits)\n",
    "for i_layer in range(num_layers):\n",
    "    for i in range(num_qubits-1):    \n",
    "        j = (i + 1)\n",
    "    \n",
    "        qc.rz(np.random.rand(), i)\n",
    "        qc.rz(np.random.rand(), j)\n",
    "        \n",
    "        qc.cx(i, j)\n",
    "        qc.rz(0.1, j)\n",
    "        qc.cx(i, j)\n",
    "    \n",
    "        qc.h(i)\n",
    "        qc.h(j)\n",
    "        qc.cx(i, j)\n",
    "        qc.rz(0.1, j)\n",
    "        qc.cx(i, j)\n",
    "        qc.h(i)\n",
    "        qc.h(j)\n",
    "    \n",
    "        qc.ry(np.pi/2, i)\n",
    "        qc.ry(np.pi/2, j)\n",
    "        qc.cx(i, j)\n",
    "        qc.rz(0.1, j)\n",
    "        qc.cx(i, j)\n",
    "        qc.ry(-np.pi/2, i)\n",
    "        qc.ry(-np.pi/2, j)\n",
    "# Get gate counts\n",
    "gate_counts = qc.count_ops()\n",
    "print(gate_counts)"
   ]
  },
  {
   "cell_type": "markdown",
   "metadata": {},
   "source": [
    "Define backend"
   ]
  },
  {
   "cell_type": "code",
   "execution_count": 221,
   "metadata": {},
   "outputs": [],
   "source": [
    "from qiskit.providers.fake_provider import GenericBackendV2\n",
    "\n",
    "backend = GenericBackendV2(num_qubits=num_qubits, basis_gates = ['rz', 'rx', 'ry', 'cx'])"
   ]
  },
  {
   "cell_type": "markdown",
   "metadata": {},
   "source": [
    "Optionally print out the circuit"
   ]
  },
  {
   "cell_type": "code",
   "execution_count": 222,
   "metadata": {},
   "outputs": [],
   "source": [
    "# qc.draw()"
   ]
  },
  {
   "cell_type": "markdown",
   "metadata": {},
   "source": [
    "Compile with default passes"
   ]
  },
  {
   "cell_type": "code",
   "execution_count": 223,
   "metadata": {},
   "outputs": [
    {
     "name": "stdout",
     "output_type": "stream",
     "text": [
      "Time taken:  1.7565083503723145\n",
      "OrderedDict({'rz': 254, 'ry': 150, 'cx': 114, 'rx': 98})\n",
      "Number of 2-qubit gates:  114\n",
      "Number of 1-qubit gates:  502\n"
     ]
    }
   ],
   "source": [
    "from qiskit.transpiler.preset_passmanagers import generate_preset_pass_manager\n",
    "default_pm = generate_preset_pass_manager(backend=backend, optimization_level=3)\n",
    "\n",
    "t1 = time.time()\n",
    "default_qc = default_pm.run(qc)\n",
    "t2 = time.time()\n",
    "print(\"Time taken: \", t2-t1)\n",
    "\n",
    "# Get gate counts\n",
    "gate_counts = default_qc.count_ops()\n",
    "print(gate_counts)\n",
    "print(\"Number of 2-qubit gates: \", gate_counts.get(\"cx\", 0)) \n",
    "print(\"Number of 1-qubit gates: \", gate_counts.get(\"rx\", 0) + gate_counts.get(\"rz\", 0) + gate_counts.get(\"ry\", 0) + gate_counts.get(\"h\", 0))"
   ]
  },
  {
   "cell_type": "code",
   "execution_count": 224,
   "metadata": {},
   "outputs": [],
   "source": [
    "# default_qc.draw()"
   ]
  },
  {
   "cell_type": "code",
   "execution_count": 225,
   "metadata": {},
   "outputs": [
    {
     "name": "stdout",
     "output_type": "stream",
     "text": [
      "Time taken:  0.4409666061401367\n",
      "OrderedDict({'rz': 279, 'ry': 192, 'cx': 114, 'rx': 56})\n",
      "Number of 2-qubit gates:  114\n",
      "Number of 1-qubit gates:  527\n"
     ]
    }
   ],
   "source": [
    "#Test with UCC transpiler\n",
    "\n",
    "import sys\n",
    "sys.path.append('../')\n",
    "\n",
    "from ucc import compile\n",
    "\n",
    "t1 = time.time()\n",
    "ucc_qc, gate_counts = compile(qc, mode=\"ucc\", draw=False, get_gate_counts = True)\n",
    "t2 = time.time()\n",
    "print(\"Time taken: \", t2-t1)\n",
    "\n",
    "# # Get gate counts\n",
    "print(gate_counts)\n",
    "print(\"Number of 2-qubit gates: \", gate_counts.get(\"cx\", 0))\n",
    "print(\"Number of 1-qubit gates: \", gate_counts.get(\"rz\", 0) + gate_counts.get(\"rx\", 0) + gate_counts.get(\"ry\", 0) + gate_counts.get(\"h\", 0))"
   ]
  },
  {
   "cell_type": "markdown",
   "metadata": {},
   "source": [
    "Create custom compiler"
   ]
  },
  {
   "cell_type": "code",
   "execution_count": 226,
   "metadata": {},
   "outputs": [],
   "source": [
    "# from qiskit.transpiler import PassManager\n",
    "# import qiskit.transpiler.passes as passes \n",
    "\n",
    "\n",
    "# custom_pm = PassManager()\n",
    "\n",
    "# custom_pm.append(passes.Optimize1qGatesDecomposition())\n",
    "\n",
    "# custom_pm.append(passes.Collect2qBlocks())\n",
    "# custom_pm.append(passes.ConsolidateBlocks())\n",
    "\n",
    "# # custom_pm.append(passes.Decompose())\n",
    "# # custom_pm.append(passes.Optimize1qGates())\n",
    "\n",
    "# custom_qc = custom_pm.run(qc)\n",
    "\n",
    "# # Get gate counts\n",
    "# gate_counts = custom_qc.count_ops()\n",
    "# print(gate_counts)\n",
    "\n",
    "# # custom_qc.draw()"
   ]
  },
  {
   "cell_type": "code",
   "execution_count": 227,
   "metadata": {},
   "outputs": [],
   "source": [
    "# # Get gate counts\n",
    "# gate_counts = custom_qc.count_ops()\n",
    "# print(gate_counts)\n",
    "# print(\"Number of 2-qubit gates: \", gate_counts.get(\"cz\", 0) + gate_counts.get(\"cx\", 0))\n",
    "# print(\"Number of 1-qubit gates: \", gate_counts.get(\"sx\", 0) + gate_counts.get(\"rz\", 0) + gate_counts.get(\"x\", 0))\n"
   ]
  }
 ],
 "metadata": {
  "kernelspec": {
   "display_name": "qml",
   "language": "python",
   "name": "python3"
  },
  "language_info": {
   "codemirror_mode": {
    "name": "ipython",
    "version": 3
   },
   "file_extension": ".py",
   "mimetype": "text/x-python",
   "name": "python",
   "nbconvert_exporter": "python",
   "pygments_lexer": "ipython3",
   "version": "3.12.4"
  }
 },
 "nbformat": 4,
 "nbformat_minor": 2
}
