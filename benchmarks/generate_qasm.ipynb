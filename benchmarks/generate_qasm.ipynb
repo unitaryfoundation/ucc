{
 "cells": [
  {
   "cell_type": "markdown",
   "metadata": {},
   "source": [
    "### Prepare & Select\n",
    "Prepare an N-qubit GHZ state and select the all ones state."
   ]
  },
  {
   "cell_type": "code",
   "execution_count": 2,
   "metadata": {},
   "outputs": [],
   "source": [
    "from circuits.cirq import cirq_prep_select \n",
    "from write_qasm import write_qasm\n",
    "\n",
    "num_qubits = 25\n",
    "target_state=\"1\" * num_qubits\n",
    "\n",
    "circuit = cirq_prep_select(num_qubits, target_state=target_state)\n",
    "filename = f\"prep_select_N{num_qubits}_ghz\"\n",
    "\n",
    "write_qasm(circuit, \n",
    "circuit_name=filename, \n",
    "basis_gates=['rz', 'rx', 'ry', 'h', 'cx'])"
   ]
  },
  {
   "cell_type": "markdown",
   "metadata": {},
   "source": [
    "### QCNN\n",
    "N-qubit Quantum convolutional neural network "
   ]
  },
  {
   "cell_type": "code",
   "execution_count": 2,
   "metadata": {},
   "outputs": [],
   "source": [
    "from circuits.qiskit import qcnn_circuit\n",
    "from numpy import log2, ceil\n",
    "\n",
    "num_qubits = 100\n",
    "num_layers = int(ceil(log2(num_qubits)))\n",
    "\n",
    "seed = 12345\n",
    "\n",
    "circuit = qcnn_circuit(num_qubits, seed=seed)\n",
    "filename = f\"qcnn_N{num_qubits}_{num_layers}layers\"\n",
    "\n",
    "write_qasm(circuit, \n",
    "circuit_name=filename, \n",
    "basis_gates=['rz', 'rx', 'ry', 'h', 'cx'])"
   ]
  },
  {
   "cell_type": "markdown",
   "metadata": {},
   "source": [
    "### Parameterized VQE ansatz\n"
   ]
  },
  {
   "cell_type": "code",
   "execution_count": 7,
   "metadata": {},
   "outputs": [],
   "source": [
    "from circuits.qiskit import VQE_ansatz\n",
    "\n",
    "num_qubits = 50\n",
    "num_layers = num_qubits * 2\n",
    "\n",
    "circuit = VQE_ansatz(num_qubits, num_layers)\n",
    "filename = f\"VQE_ansatz_N{num_qubits}_{num_layers}layers\"\n",
    "\n",
    "write_qasm(circuit, circuit_name=filename, version='3')"
   ]
  },
  {
   "cell_type": "markdown",
   "metadata": {},
   "source": [
    "### QAOA neighest neighbors Ising model"
   ]
  },
  {
   "cell_type": "code",
   "execution_count": 1,
   "metadata": {},
   "outputs": [],
   "source": [
    "\n",
    "from circuits.qiskit import qaoa_ising_ansatz\n",
    "from write_qasm import write_qasm\n",
    "\n",
    "num_qubits = 50\n",
    "num_layers = num_qubits * 3\n",
    "\n",
    "circuit = qaoa_ising_ansatz(num_qubits, num_layers)\n",
    "filename = f\"QAOA_Ising_ansatz_N{num_qubits}_{num_layers}layers\"\n",
    "\n",
    "write_qasm(circuit, circuit_name=filename, version='3')"
   ]
  },
  {
   "cell_type": "code",
   "execution_count": 4,
   "metadata": {},
   "outputs": [
    {
     "name": "stdout",
     "output_type": "stream",
     "text": [
      "global phase: -7*γ_0 - 7*γ_1 - 7*γ_2\n",
      "                            ┌───────────┐┌────────────┐                  »\n",
      "q_0: ──■─────────────────■──┤ U1(2*γ_0) ├┤ R(2*β_0,0) ├──────────────────»\n",
      "     ┌─┴─┐┌───────────┐┌─┴─┐└───────────┘└────────────┘     ┌───────────┐»\n",
      "q_1: ┤ X ├┤ U1(2*γ_0) ├┤ X ├──────■──────────────────────■──┤ U1(2*γ_0) ├»\n",
      "     └───┘└───────────┘└───┘    ┌─┴─┐    ┌───────────┐ ┌─┴─┐└───────────┘»\n",
      "q_2: ───────────────────────────┤ X ├────┤ U1(2*γ_0) ├─┤ X ├──────■──────»\n",
      "                                └───┘    └───────────┘ └───┘    ┌─┴─┐    »\n",
      "q_3: ───────────────────────────────────────────────────────────┤ X ├────»\n",
      "                                                                └───┘    »\n",
      "«                                                   ┌───────────┐┌────────────┐»\n",
      "«q_0: ────────────────■─────────────────────■───────┤ U1(2*γ_1) ├┤ R(2*β_1,0) ├»\n",
      "«     ┌────────────┐┌─┴─┐┌───────────┐    ┌─┴─┐     └───────────┘└────────────┘»\n",
      "«q_1: ┤ R(2*β_0,0) ├┤ X ├┤ U1(2*γ_1) ├────┤ X ├───────────■────────────────────»\n",
      "«     └────────────┘└───┘├───────────┤┌───┴───┴────┐    ┌─┴─┐    ┌───────────┐ »\n",
      "«q_2: ────────────────■──┤ U1(2*γ_0) ├┤ R(2*β_0,0) ├────┤ X ├────┤ U1(2*γ_1) ├─»\n",
      "«     ┌───────────┐ ┌─┴─┐├───────────┤├────────────┤    └───┘    └───────────┘ »\n",
      "«q_3: ┤ U1(2*γ_0) ├─┤ X ├┤ U1(2*γ_0) ├┤ R(2*β_0,0) ├───────────────────────────»\n",
      "«     └───────────┘ └───┘└───────────┘└────────────┘                           »\n",
      "«                                                                     »\n",
      "«q_0: ──────────────────────────────────■─────────────────────■───────»\n",
      "«          ┌───────────┐┌────────────┐┌─┴─┐┌───────────┐    ┌─┴─┐     »\n",
      "«q_1: ──■──┤ U1(2*γ_1) ├┤ R(2*β_1,0) ├┤ X ├┤ U1(2*γ_2) ├────┤ X ├─────»\n",
      "«     ┌─┴─┐└───────────┘└────────────┘└───┘├───────────┤┌───┴───┴────┐»\n",
      "«q_2: ┤ X ├──────■──────────────────────■──┤ U1(2*γ_1) ├┤ R(2*β_1,0) ├»\n",
      "«     └───┘    ┌─┴─┐    ┌───────────┐ ┌─┴─┐├───────────┤├────────────┤»\n",
      "«q_3: ─────────┤ X ├────┤ U1(2*γ_1) ├─┤ X ├┤ U1(2*γ_1) ├┤ R(2*β_1,0) ├»\n",
      "«              └───┘    └───────────┘ └───┘└───────────┘└────────────┘»\n",
      "«     ┌───────────┐┌────────────┐                                     »\n",
      "«q_0: ┤ U1(2*γ_2) ├┤ R(2*β_2,0) ├─────────────────────────────────────»\n",
      "«     └───────────┘└────────────┘     ┌───────────┐┌────────────┐     »\n",
      "«q_1: ──────■──────────────────────■──┤ U1(2*γ_2) ├┤ R(2*β_2,0) ├─────»\n",
      "«         ┌─┴─┐    ┌───────────┐ ┌─┴─┐└───────────┘└────────────┘     »\n",
      "«q_2: ────┤ X ├────┤ U1(2*γ_2) ├─┤ X ├──────■──────────────────────■──»\n",
      "«         └───┘    └───────────┘ └───┘    ┌─┴─┐    ┌───────────┐ ┌─┴─┐»\n",
      "«q_3: ────────────────────────────────────┤ X ├────┤ U1(2*γ_2) ├─┤ X ├»\n",
      "«                                         └───┘    └───────────┘ └───┘»\n",
      "«                                \n",
      "«q_0: ───────────────────────────\n",
      "«                                \n",
      "«q_1: ───────────────────────────\n",
      "«     ┌───────────┐┌────────────┐\n",
      "«q_2: ┤ U1(2*γ_2) ├┤ R(2*β_2,0) ├\n",
      "«     ├───────────┤├────────────┤\n",
      "«q_3: ┤ U1(2*γ_2) ├┤ R(2*β_2,0) ├\n",
      "«     └───────────┘└────────────┘\n"
     ]
    }
   ],
   "source": [
    "from qiskit import QuantumCircuit\n",
    "from qiskit.circuit import Parameter\n",
    "import numpy as np\n",
    "\n",
    "def generate_custom_qaoa_circuit(num_qubits, num_layers):\n",
    "    \"\"\"\n",
    "    Generates a custom QAOA ansatz for a nearest-neighbor Ising Hamiltonian.\n",
    "\n",
    "    Args:\n",
    "        num_qubits (int): Number of qubits for the Ising Hamiltonian.\n",
    "        num_layers (int): Number of QAOA layers.\n",
    "\n",
    "    Returns:\n",
    "        QuantumCircuit: Custom QAOA ansatz circuit.\n",
    "    \"\"\"\n",
    "    # Initialize a quantum circuit with the required number of qubits\n",
    "    qc = QuantumCircuit(num_qubits)\n",
    "\n",
    "    # Define the parameters for each layer (gamma for cost and beta for mixer)\n",
    "    gamma = [Parameter(f\"γ_{i}\") for i in range(num_layers)]\n",
    "    beta = [Parameter(f\"β_{i}\") for i in range(num_layers)]\n",
    "\n",
    "    # Create the QAOA circuit layer by layer\n",
    "    for layer in range(num_layers):\n",
    "        # Cost Hamiltonian Evolution: Apply ZZ interactions and single-qubit Z rotations\n",
    "        for i in range(num_qubits):\n",
    "            # Apply nearest-neighbor ZZ interaction if not at the last qubit\n",
    "            if i < num_qubits - 1:\n",
    "                qc.cx(i, i + 1)\n",
    "                qc.rz(2 * gamma[layer], i + 1)\n",
    "                qc.cx(i, i + 1)\n",
    "\n",
    "            # Apply local Z rotation (Z_i) for each qubit\n",
    "            qc.rz(2 * gamma[layer], i)\n",
    "\n",
    "        # Mixer Hamiltonian Evolution: Apply RX rotations\n",
    "        for i in range(num_qubits):\n",
    "            qc.rx(2 * beta[layer], i)\n",
    "\n",
    "    return qc\n",
    "\n",
    "# Example usage\n",
    "num_qubits = 4\n",
    "num_layers = 3\n",
    "custom_qaoa_circuit = generate_custom_qaoa_circuit(num_qubits, num_layers)\n",
    "\n",
    "# Print the generated QAOA circuit\n",
    "print(custom_qaoa_circuit.decompose().draw())\n"
   ]
  },
  {
   "cell_type": "code",
   "execution_count": null,
   "metadata": {},
   "outputs": [],
   "source": []
  }
 ],
 "metadata": {
  "kernelspec": {
   "display_name": "bench",
   "language": "python",
   "name": "python3"
  },
  "language_info": {
   "codemirror_mode": {
    "name": "ipython",
    "version": 3
   },
   "file_extension": ".py",
   "mimetype": "text/x-python",
   "name": "python",
   "nbconvert_exporter": "python",
   "pygments_lexer": "ipython3",
   "version": "3.12.4"
  }
 },
 "nbformat": 4,
 "nbformat_minor": 2
}
