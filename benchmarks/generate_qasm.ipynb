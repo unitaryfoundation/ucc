{
 "cells": [
  {
   "cell_type": "code",
   "execution_count": 4,
   "metadata": {},
   "outputs": [],
   "source": [
    "from circuits.cirq import cirq_prep_select \n",
    "\n",
    "num_qubits = 100\n",
    "target_state=\"1\"*num_qubits"
   ]
  },
  {
   "cell_type": "code",
   "execution_count": 5,
   "metadata": {},
   "outputs": [],
   "source": [
    "circuit = cirq_prep_select(num_qubits, target_state=target_state)"
   ]
  },
  {
   "cell_type": "code",
   "execution_count": 6,
   "metadata": {},
   "outputs": [],
   "source": [
    "# Write to OpenQASM 2 file\n",
    "from qbraid.transpiler import transpile\n",
    "\n",
    "qasm_string = transpile(circuit, 'qasm2')\n",
    "# Write the string to a .qasm file\n",
    "with open(f\"./circuits/qasm2/ucc/prep_select{num_qubits}_ghz.qasm\", \"w\") as file:\n",
    "    file.write(qasm_string)"
   ]
  },
  {
   "cell_type": "code",
   "execution_count": null,
   "metadata": {},
   "outputs": [],
   "source": []
  }
 ],
 "metadata": {
  "kernelspec": {
   "display_name": "bench",
   "language": "python",
   "name": "python3"
  },
  "language_info": {
   "codemirror_mode": {
    "name": "ipython",
    "version": 3
   },
   "file_extension": ".py",
   "mimetype": "text/x-python",
   "name": "python",
   "nbconvert_exporter": "python",
   "pygments_lexer": "ipython3",
   "version": "3.12.4"
  }
 },
 "nbformat": 4,
 "nbformat_minor": 2
}
