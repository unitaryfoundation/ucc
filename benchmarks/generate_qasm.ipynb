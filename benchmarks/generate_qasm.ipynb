{
 "cells": [
  {
   "cell_type": "code",
   "execution_count": 1,
   "metadata": {},
   "outputs": [],
   "source": [
    "from circuits.cirq import cirq_prep_select \n",
    "from write_qasm import write_qasm\n",
    "\n",
    "num_qubits = 25\n",
    "target_state=\"1\" * num_qubits\n",
    "\n",
    "circuit = cirq_prep_select(num_qubits, target_state=target_state)\n",
    "filename = f\"prep_select_N{num_qubits}_ghz\"\n",
    "\n",
    "write_qasm(circuit, filename=filename)"
   ]
  },
  {
   "cell_type": "code",
   "execution_count": 2,
   "metadata": {},
   "outputs": [],
   "source": [
    "from circuits.qiskit import qcnn_circuit\n",
    "from numpy import log2, ceil\n",
    "\n",
    "num_qubits = 100\n",
    "num_layers = int(ceil(log2(num_qubits)))\n",
    "\n",
    "seed = 12345\n",
    "\n",
    "circuit = qcnn_circuit(num_qubits, seed=seed)\n",
    "filename = f\"qcnn_N{num_qubits}_{num_layers}layers\"\n",
    "\n",
    "write_qasm(circuit, filename=filename)"
   ]
  },
  {
   "cell_type": "code",
   "execution_count": null,
   "metadata": {},
   "outputs": [],
   "source": []
  },
  {
   "cell_type": "code",
   "execution_count": null,
   "metadata": {},
   "outputs": [],
   "source": []
  }
 ],
 "metadata": {
  "kernelspec": {
   "display_name": "bench",
   "language": "python",
   "name": "python3"
  },
  "language_info": {
   "codemirror_mode": {
    "name": "ipython",
    "version": 3
   },
   "file_extension": ".py",
   "mimetype": "text/x-python",
   "name": "python",
   "nbconvert_exporter": "python",
   "pygments_lexer": "ipython3",
   "version": "3.12.4"
  }
 },
 "nbformat": 4,
 "nbformat_minor": 2
}
