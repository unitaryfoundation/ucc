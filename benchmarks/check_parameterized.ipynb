{
 "cells": [
  {
   "cell_type": "code",
   "execution_count": 9,
   "metadata": {},
   "outputs": [],
   "source": [
    "from qiskit import QuantumCircuit\n",
    "\n",
    "from qiskit.transpiler.preset_passmanagers import generate_preset_pass_manager\n",
    "pm = generate_preset_pass_manager(optimization_level=3)\n",
    "\n",
    "import time"
   ]
  },
  {
   "cell_type": "code",
   "execution_count": 10,
   "metadata": {},
   "outputs": [
    {
     "name": "stdout",
     "output_type": "stream",
     "text": [
      "          ┌─────────┐     ┌─────────┐\n",
      "q_0: ──■──┤ Rz(0.1) ├──■──┤ Rz(0.2) ├\n",
      "     ┌─┴─┐└─────────┘┌─┴─┐└─────────┘\n",
      "q_1: ┤ X ├───────────┤ X ├───────────\n",
      "     └───┘           └───┘           \n",
      "c: 2/════════════════════════════════\n",
      "                                     \n"
     ]
    }
   ],
   "source": [
    "# Create a quantum circuit with no parameters\n",
    "qc = QuantumCircuit(2, 2)\n",
    "qc.cx(0, 1)\n",
    "qc.rz(0.1, 0)\n",
    "qc.cx(0, 1)\n",
    "qc.rz(0.2, 0)\n",
    "\n",
    "print(qc)"
   ]
  },
  {
   "cell_type": "code",
   "execution_count": 11,
   "metadata": {},
   "outputs": [
    {
     "name": "stdout",
     "output_type": "stream",
     "text": [
      "Time taken:  0.009472131729125977\n",
      "OrderedDict({'rz': 1})\n",
      "Number of 2-qubit gates:  0\n",
      "Number of 1-qubit gates:  1\n",
      "     ┌─────────┐\n",
      "q_0: ┤ Rz(0.3) ├\n",
      "     └─────────┘\n",
      "q_1: ───────────\n",
      "                \n",
      "c: 2/═══════════\n",
      "                \n"
     ]
    }
   ],
   "source": [
    "t1 = time.time()\n",
    "default_qc = pm.run(qc)\n",
    "t2 = time.time()\n",
    "print(\"Time taken: \", t2-t1)\n",
    "\n",
    "# Get gate counts\n",
    "gate_counts = default_qc.count_ops()\n",
    "print(gate_counts)\n",
    "print(\"Number of 2-qubit gates: \", gate_counts.get(\"cz\", 0) + gate_counts.get(\"cx\", 0)) \n",
    "print(\"Number of 1-qubit gates: \", gate_counts.get(\"rz\", 0) + gate_counts.get(\"rx\", 0) + gate_counts.get(\"ry\", 0) + gate_counts.get(\"h\", 0))\n",
    "\n",
    "print(default_qc)"
   ]
  },
  {
   "cell_type": "code",
   "execution_count": 12,
   "metadata": {},
   "outputs": [
    {
     "name": "stdout",
     "output_type": "stream",
     "text": [
      "          ┌────────────┐     ┌────────────┐\n",
      "q_0: ──■──┤ Rz(angle1) ├──■──┤ Rz(angle2) ├\n",
      "     ┌─┴─┐└────────────┘┌─┴─┐└────────────┘\n",
      "q_1: ┤ X ├──────────────┤ X ├──────────────\n",
      "     └───┘              └───┘              \n",
      "c: 2/══════════════════════════════════════\n",
      "                                           \n"
     ]
    }
   ],
   "source": [
    "#Create a quantum circuit with parameters\n",
    "from qiskit.circuit import Parameter\n",
    "\n",
    "#Create parameter vector\n",
    "p1 = Parameter(\"angle1\")\n",
    "p2 = Parameter(\"angle2\")\n",
    "\n",
    "pqc = QuantumCircuit(2, 2)\n",
    "pqc.cx(0, 1)\n",
    "pqc.rz(p1, 0)\n",
    "pqc.cx(0, 1)\n",
    "pqc.rz(p2, 0)\n",
    "\n",
    "print(pqc)\n"
   ]
  },
  {
   "cell_type": "code",
   "execution_count": 13,
   "metadata": {},
   "outputs": [
    {
     "name": "stdout",
     "output_type": "stream",
     "text": [
      "Time taken:  0.002749204635620117\n",
      "OrderedDict({'cx': 2, 'rz': 2})\n",
      "Number of 2-qubit gates:  2\n",
      "Number of 1-qubit gates:  2\n",
      "          ┌────────────┐     ┌────────────┐\n",
      "q_0: ──■──┤ Rz(angle1) ├──■──┤ Rz(angle2) ├\n",
      "     ┌─┴─┐└────────────┘┌─┴─┐└────────────┘\n",
      "q_1: ┤ X ├──────────────┤ X ├──────────────\n",
      "     └───┘              └───┘              \n",
      "c: 2/══════════════════════════════════════\n",
      "                                           \n"
     ]
    }
   ],
   "source": [
    "t1 = time.time()\n",
    "default_pqc = pm.run(pqc)\n",
    "t2 = time.time()\n",
    "print(\"Time taken: \", t2-t1)\n",
    "\n",
    "# Get gate counts\n",
    "gate_counts = default_pqc.count_ops()\n",
    "print(gate_counts)\n",
    "print(\"Number of 2-qubit gates: \", gate_counts.get(\"cz\", 0) + gate_counts.get(\"cx\", 0)) \n",
    "print(\"Number of 1-qubit gates: \", gate_counts.get(\"rz\", 0) + gate_counts.get(\"rx\", 0) + gate_counts.get(\"ry\", 0) + gate_counts.get(\"h\", 0))\n",
    "\n",
    "print(default_pqc)"
   ]
  },
  {
   "cell_type": "markdown",
   "metadata": {},
   "source": [
    "Testing UCC"
   ]
  },
  {
   "cell_type": "code",
   "execution_count": 14,
   "metadata": {},
   "outputs": [
    {
     "name": "stdout",
     "output_type": "stream",
     "text": [
      "     ┌────────────┐┌────────────┐\n",
      "q_0: ┤ Rz(angle1) ├┤ Rz(angle2) ├\n",
      "     └────────────┘└────────────┘\n",
      "q_1: ────────────────────────────\n",
      "                                 \n",
      "c: 2/════════════════════════════\n",
      "                                 \n"
     ]
    }
   ],
   "source": [
    "import sys\n",
    "sys.path.append('../')\n",
    "\n",
    "from ucc.transpilers.ucc_defaults import UCCDefault1\n",
    "\n",
    "ucc_transpiler = UCCDefault1()\n",
    "transpiled_circuit = ucc_transpiler.run(pqc)\n",
    "\n",
    "print(transpiled_circuit)"
   ]
  },
  {
   "cell_type": "code",
   "execution_count": 15,
   "metadata": {},
   "outputs": [
    {
     "data": {
      "text/plain": [
       "OrderedDict([('cx', 2), ('rz', 2)])"
      ]
     },
     "execution_count": 15,
     "metadata": {},
     "output_type": "execute_result"
    }
   ],
   "source": [
    "from ucc import compile\n",
    "\n",
    "ucc_qc, gate_counts = compile(pqc, mode=\"qiskit\", get_gate_counts = True) \n",
    "gate_counts"
   ]
  },
  {
   "cell_type": "markdown",
   "metadata": {},
   "source": [
    "### Testing larger parameterized circuits"
   ]
  },
  {
   "cell_type": "code",
   "execution_count": 1,
   "metadata": {},
   "outputs": [
    {
     "name": "stdout",
     "output_type": "stream",
     "text": [
      "Raw circuit\n",
      "OrderedDict({'rz': 14850, 'cx': 14700, 'rx': 7500})\n",
      "Number of 2-qubit gates:  14700\n",
      "Number of 1-qubit gates:  22350\n"
     ]
    }
   ],
   "source": [
    "from qbraid.transpiler import transpile as translate \n",
    "\n",
    "filename = \"./circuits/qasm3/ucc/QAOA_Ising_ansatz_N50_150layers.qasm\"\n",
    "with open(filename, \"r\") as file:\n",
    "    qasm_string = file.read()\n",
    "    native_circuit = translate(qasm_string, 'qiskit')\n",
    "    \n",
    "# Get gate counts\n",
    "print(\"Raw circuit\")\n",
    "gate_counts = native_circuit.count_ops()\n",
    "print(gate_counts)\n",
    "print(\"Number of 2-qubit gates: \", gate_counts.get(\"cz\", 0) + gate_counts.get(\"cx\", 0)) \n",
    "print(\"Number of 1-qubit gates: \", gate_counts.get(\"rz\", 0) + gate_counts.get(\"rx\", 0) + gate_counts.get(\"ry\", 0) + gate_counts.get(\"h\", 0))"
   ]
  },
  {
   "cell_type": "code",
   "execution_count": 2,
   "metadata": {},
   "outputs": [
    {
     "name": "stdout",
     "output_type": "stream",
     "text": [
      "UCC Compiled circuit\n",
      "OrderedDict({'rz': 14850, 'cx': 14700, 'rx': 7500})\n",
      "Number of 2-qubit gates:  14700\n",
      "Number of 1-qubit gates:  22350\n"
     ]
    }
   ],
   "source": [
    "from ucc import compile\n",
    "compiled_circuit = compile(native_circuit)\n",
    "\n",
    "# Get gate counts\n",
    "print(\"UCC Compiled circuit\")\n",
    "gate_counts = compiled_circuit.count_ops()\n",
    "print(gate_counts)\n",
    "print(\"Number of 2-qubit gates: \", gate_counts.get(\"cz\", 0) + gate_counts.get(\"cx\", 0)) \n",
    "print(\"Number of 1-qubit gates: \", gate_counts.get(\"rz\", 0) + gate_counts.get(\"rx\", 0) + gate_counts.get(\"ry\", 0) + gate_counts.get(\"h\", 0))"
   ]
  },
  {
   "cell_type": "code",
   "execution_count": null,
   "metadata": {},
   "outputs": [],
   "source": []
  }
 ],
 "metadata": {
  "kernelspec": {
   "display_name": "qiskit-compiler",
   "language": "python",
   "name": "python3"
  },
  "language_info": {
   "codemirror_mode": {
    "name": "ipython",
    "version": 3
   },
   "file_extension": ".py",
   "mimetype": "text/x-python",
   "name": "python",
   "nbconvert_exporter": "python",
   "pygments_lexer": "ipython3",
   "version": "3.12.4"
  }
 },
 "nbformat": 4,
 "nbformat_minor": 2
}
