{
 "cells": [
  {
   "cell_type": "code",
   "execution_count": 3,
   "metadata": {},
   "outputs": [],
   "source": [
    "from qiskit import QuantumCircuit\n",
    "\n",
    "from qiskit.transpiler.preset_passmanagers import generate_preset_pass_manager\n",
    "pm = generate_preset_pass_manager(optimization_level=3)\n",
    "\n",
    "import time"
   ]
  },
  {
   "cell_type": "code",
   "execution_count": 4,
   "metadata": {},
   "outputs": [
    {
     "name": "stdout",
     "output_type": "stream",
     "text": [
      "          ┌─────────┐     ┌─────────┐\n",
      "q_0: ──■──┤ Rz(0.1) ├──■──┤ Rz(0.2) ├\n",
      "     ┌─┴─┐└─────────┘┌─┴─┐└─────────┘\n",
      "q_1: ┤ X ├───────────┤ X ├───────────\n",
      "     └───┘           └───┘           \n",
      "c: 2/════════════════════════════════\n",
      "                                     \n"
     ]
    }
   ],
   "source": [
    "# Create a quantum circuit with no parameters\n",
    "qc = QuantumCircuit(2, 2)\n",
    "qc.cx(0, 1)\n",
    "qc.rz(0.1, 0)\n",
    "qc.cx(0, 1)\n",
    "qc.rz(0.2, 0)\n",
    "\n",
    "print(qc)"
   ]
  },
  {
   "cell_type": "code",
   "execution_count": 5,
   "metadata": {},
   "outputs": [
    {
     "name": "stdout",
     "output_type": "stream",
     "text": [
      "Time taken:  0.008243083953857422\n",
      "OrderedDict({'rz': 1})\n",
      "Number of 2-qubit gates:  0\n",
      "Number of 1-qubit gates:  1\n",
      "     ┌─────────┐\n",
      "q_0: ┤ Rz(0.3) ├\n",
      "     └─────────┘\n",
      "q_1: ───────────\n",
      "                \n",
      "c: 2/═══════════\n",
      "                \n"
     ]
    }
   ],
   "source": [
    "t1 = time.time()\n",
    "default_qc = pm.run(qc)\n",
    "t2 = time.time()\n",
    "print(\"Time taken: \", t2-t1)\n",
    "\n",
    "# Get gate counts\n",
    "gate_counts = default_qc.count_ops()\n",
    "print(gate_counts)\n",
    "print(\"Number of 2-qubit gates: \", gate_counts.get(\"cz\", 0) + gate_counts.get(\"cx\", 0)) \n",
    "print(\"Number of 1-qubit gates: \", gate_counts.get(\"rz\", 0) + gate_counts.get(\"rx\", 0) + gate_counts.get(\"ry\", 0) + gate_counts.get(\"h\", 0))\n",
    "\n",
    "print(default_qc)"
   ]
  },
  {
   "cell_type": "code",
   "execution_count": 6,
   "metadata": {},
   "outputs": [
    {
     "name": "stdout",
     "output_type": "stream",
     "text": [
      "          ┌────────────┐     ┌────────────┐\n",
      "q_0: ──■──┤ Rz(angle1) ├──■──┤ Rz(angle2) ├\n",
      "     ┌─┴─┐└────────────┘┌─┴─┐└────────────┘\n",
      "q_1: ┤ X ├──────────────┤ X ├──────────────\n",
      "     └───┘              └───┘              \n",
      "c: 2/══════════════════════════════════════\n",
      "                                           \n"
     ]
    }
   ],
   "source": [
    "#Create a quantum circuit with parameters\n",
    "from qiskit.circuit import Parameter\n",
    "\n",
    "#Create parameter vector\n",
    "p1 = Parameter(\"angle1\")\n",
    "p2 = Parameter(\"angle2\")\n",
    "\n",
    "pqc = QuantumCircuit(2, 2)\n",
    "pqc.cx(0, 1)\n",
    "pqc.rz(p1, 0)\n",
    "pqc.cx(0, 1)\n",
    "pqc.rz(p2, 0)\n",
    "\n",
    "print(pqc)\n"
   ]
  },
  {
   "cell_type": "code",
   "execution_count": 7,
   "metadata": {},
   "outputs": [
    {
     "name": "stdout",
     "output_type": "stream",
     "text": [
      "Time taken:  0.003178119659423828\n",
      "OrderedDict({'cx': 2, 'rz': 2})\n",
      "Number of 2-qubit gates:  2\n",
      "Number of 1-qubit gates:  2\n",
      "          ┌────────────┐     ┌────────────┐\n",
      "q_0: ──■──┤ Rz(angle1) ├──■──┤ Rz(angle2) ├\n",
      "     ┌─┴─┐└────────────┘┌─┴─┐└────────────┘\n",
      "q_1: ┤ X ├──────────────┤ X ├──────────────\n",
      "     └───┘              └───┘              \n",
      "c: 2/══════════════════════════════════════\n",
      "                                           \n"
     ]
    }
   ],
   "source": [
    "t1 = time.time()\n",
    "default_pqc = pm.run(pqc)\n",
    "t2 = time.time()\n",
    "print(\"Time taken: \", t2-t1)\n",
    "\n",
    "# Get gate counts\n",
    "gate_counts = default_pqc.count_ops()\n",
    "print(gate_counts)\n",
    "print(\"Number of 2-qubit gates: \", gate_counts.get(\"cz\", 0) + gate_counts.get(\"cx\", 0)) \n",
    "print(\"Number of 1-qubit gates: \", gate_counts.get(\"rz\", 0) + gate_counts.get(\"rx\", 0) + gate_counts.get(\"ry\", 0) + gate_counts.get(\"h\", 0))\n",
    "\n",
    "print(default_pqc)"
   ]
  },
  {
   "cell_type": "markdown",
   "metadata": {},
   "source": [
    "Testing UCC"
   ]
  },
  {
   "cell_type": "code",
   "execution_count": 8,
   "metadata": {},
   "outputs": [
    {
     "name": "stdout",
     "output_type": "stream",
     "text": [
      "     ┌────────────┐┌────────────┐\n",
      "q_0: ┤ Rz(angle1) ├┤ Rz(angle2) ├\n",
      "     └────────────┘└────────────┘\n",
      "q_1: ────────────────────────────\n",
      "                                 \n",
      "c: 2/════════════════════════════\n",
      "                                 \n"
     ]
    }
   ],
   "source": [
    "import sys\n",
    "sys.path.append('../')\n",
    "\n",
    "from ucc.transpilers.ucc_defaults import UCCDefault1\n",
    "\n",
    "ucc_transpiler = UCCDefault1()\n",
    "transpiled_circuit = ucc_transpiler.run(pqc)\n",
    "\n",
    "print(transpiled_circuit)"
   ]
  },
  {
   "cell_type": "code",
   "execution_count": 9,
   "metadata": {},
   "outputs": [
    {
     "data": {
      "text/plain": [
       "OrderedDict([('cx', 2), ('rz', 2)])"
      ]
     },
     "execution_count": 9,
     "metadata": {},
     "output_type": "execute_result"
    }
   ],
   "source": [
    "from ucc import compile\n",
    "\n",
    "ucc_qc, gate_counts = compile(pqc, mode=\"qiskit\", get_gate_counts = True) \n",
    "gate_counts"
   ]
  },
  {
   "cell_type": "code",
   "execution_count": null,
   "metadata": {},
   "outputs": [],
   "source": []
  }
 ],
 "metadata": {
  "kernelspec": {
   "display_name": "qiskit-compiler",
   "language": "python",
   "name": "python3"
  },
  "language_info": {
   "codemirror_mode": {
    "name": "ipython",
    "version": 3
   },
   "file_extension": ".py",
   "mimetype": "text/x-python",
   "name": "python",
   "nbconvert_exporter": "python",
   "pygments_lexer": "ipython3",
   "version": "3.12.4"
  }
 },
 "nbformat": 4,
 "nbformat_minor": 2
}
