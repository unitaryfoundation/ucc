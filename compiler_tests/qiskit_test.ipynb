{
 "cells": [
  {
   "cell_type": "code",
   "execution_count": 1,
   "metadata": {},
   "outputs": [],
   "source": [
    "from qiskit_ibm_runtime.fake_provider import FakeTorino\n",
    "\n",
    "from qiskit import QuantumCircuit\n",
    "\n",
    "backend = FakeTorino()\n",
    "\n",
    "from qiskit.transpiler.preset_passmanagers import generate_preset_pass_manager\n",
    "pm = generate_preset_pass_manager(backend=backend, optimization_level=3)\n",
    "\n",
    "import time"
   ]
  },
  {
   "cell_type": "markdown",
   "metadata": {},
   "source": [
    "Bell State"
   ]
  },
  {
   "cell_type": "code",
   "execution_count": 10,
   "metadata": {},
   "outputs": [
    {
     "name": "stdout",
     "output_type": "stream",
     "text": [
      "OrderedDict({'rz': 6, 'sx': 3, 'measure': 2, 'cz': 1, 'barrier': 1})\n"
     ]
    }
   ],
   "source": [
    "qc = QuantumCircuit(2)\n",
    "qc.h(0)\n",
    "qc.cx(0, 1)\n",
    "qc.measure_all()\n",
    "\n",
    "# Get ISA circuit\n",
    "pm_bell = generate_preset_pass_manager(backend=backend, optimization_level=1)\n",
    "isa_qc = pm_bell.run(qc)\n",
    "\n",
    "# Get gate counts\n",
    "gate_counts = isa_qc.count_ops()\n",
    "print(gate_counts)"
   ]
  },
  {
   "cell_type": "markdown",
   "metadata": {},
   "source": [
    "Ising with transverse and longitudinal fields Hamiltonian, nearest neighbor ring"
   ]
  },
  {
   "cell_type": "code",
   "execution_count": 3,
   "metadata": {},
   "outputs": [
    {
     "name": "stdout",
     "output_type": "stream",
     "text": [
      "Time taken:  21.209616899490356\n",
      "OrderedDict({'sx': 765, 'rz': 403, 'cz': 331, 'x': 43})\n",
      "Number of 2-qubit gates:  331\n",
      "Number of 1-qubit gates:  1211\n"
     ]
    }
   ],
   "source": [
    "num_qubits = 50\n",
    "qc=QuantumCircuit(num_qubits)\n",
    "for i in range(num_qubits):    \n",
    "    j = (i + 1) % num_qubits\n",
    "    \n",
    "    qc.rx(0.1, i)\n",
    "    qc.rz(0.2, i)\n",
    "    \n",
    "    qc.rx(0.1, j)\n",
    "    qc.rz(0.2, j)\n",
    "    \n",
    "    qc.cx(i, j)\n",
    "    qc.rz(0.1, j)\n",
    "    qc.cx(i, j)\n",
    "\n",
    "# Get ISA circuit\n",
    "t1 = time.time()\n",
    "isa_qc = pm.run(qc)\n",
    "t2 = time.time()\n",
    "print(\"Time taken: \", t2-t1)\n",
    "\n",
    "# Get gate counts\n",
    "gate_counts = isa_qc.count_ops()\n",
    "print(gate_counts)\n",
    "print(\"Number of 2-qubit gates: \", gate_counts.get(\"cz\", 0) + gate_counts.get(\"cx\", 0)) \n",
    "print(\"Number of 1-qubit gates: \", gate_counts.get(\"sx\", 0) + gate_counts.get(\"rz\", 0) + gate_counts.get(\"x\", 0))"
   ]
  },
  {
   "cell_type": "markdown",
   "metadata": {},
   "source": [
    "Ising with transverse and longitudinal fields Hamiltonian, all-to-all"
   ]
  },
  {
   "cell_type": "code",
   "execution_count": 4,
   "metadata": {},
   "outputs": [
    {
     "name": "stdout",
     "output_type": "stream",
     "text": [
      "Time taken:  0.660789966583252\n",
      "OrderedDict({'sx': 896, 'rz': 753, 'cz': 369, 'x': 101})\n",
      "Number of 2-qubit gates:  369\n",
      "Number of 1-qubit gates:  1750\n"
     ]
    }
   ],
   "source": [
    "num_qubits = 10\n",
    "qc=QuantumCircuit(num_qubits)\n",
    "for i in range(num_qubits):\n",
    "    for j in range(i+1, i+num_qubits):\n",
    "        j = j % num_qubits\n",
    "\n",
    "        qc.rx(0.1, i)\n",
    "        qc.rz(0.2, i)\n",
    "        \n",
    "        qc.rx(0.1, j)\n",
    "        qc.rz(0.2, j)\n",
    "        \n",
    "        qc.cx(i, j)\n",
    "        qc.rz(0.1, j)\n",
    "        qc.cx(i, j)\n",
    "\n",
    "# Get ISA circuit\n",
    "t1 = time.time()\n",
    "isa_qc = pm.run(qc)\n",
    "t2 = time.time()\n",
    "print(\"Time taken: \", t2-t1)\n",
    "\n",
    "# Get gate counts\n",
    "gate_counts = isa_qc.count_ops()\n",
    "print(gate_counts)\n",
    "print(\"Number of 2-qubit gates: \", gate_counts.get(\"cz\", 0) + gate_counts.get(\"cx\", 0)) \n",
    "print(\"Number of 1-qubit gates: \", gate_counts.get(\"sx\", 0) + gate_counts.get(\"rz\", 0) + gate_counts.get(\"x\", 0))\n",
    "        "
   ]
  },
  {
   "cell_type": "markdown",
   "metadata": {},
   "source": [
    "QCNN"
   ]
  },
  {
   "cell_type": "code",
   "execution_count": 5,
   "metadata": {},
   "outputs": [
    {
     "name": "stdout",
     "output_type": "stream",
     "text": [
      "Time taken:  0.9238553047180176\n",
      "OrderedDict({'sx': 924, 'rz': 603, 'cz': 431, 'x': 65})\n",
      "Number of 2-qubit gates:  431\n",
      "Number of 1-qubit gates:  1592\n"
     ]
    }
   ],
   "source": [
    "num_qubits = 50\n",
    "num_layers = 5\n",
    "\n",
    "qc=QuantumCircuit(num_qubits)\n",
    "i_conv=0\n",
    "for i_layer in range(num_layers):\n",
    "    for i_sub_layer in [0 , 2**i_layer]:            \n",
    "        for i_q1 in range(i_sub_layer, num_qubits, 2**(i_layer+1)):\n",
    "            i_q2=2**i_layer+i_q1\n",
    "            if i_q2<num_qubits:\n",
    "                qc.rxx(0.1, i_q1, i_q2)\n",
    "                i_conv+=1\n",
    "\n",
    "# Get ISA circuit\n",
    "t1 = time.time()\n",
    "isa_qc = pm.run(qc)\n",
    "t2 = time.time()\n",
    "print(\"Time taken: \", t2-t1)\n",
    "\n",
    "# Get gate counts\n",
    "gate_counts = isa_qc.count_ops()\n",
    "print(gate_counts)\n",
    "print(\"Number of 2-qubit gates: \", gate_counts.get(\"cz\", 0) + gate_counts.get(\"cx\", 0)) \n",
    "print(\"Number of 1-qubit gates: \", gate_counts.get(\"sx\", 0) + gate_counts.get(\"rz\", 0) + gate_counts.get(\"x\", 0))"
   ]
  },
  {
   "cell_type": "markdown",
   "metadata": {},
   "source": []
  }
 ],
 "metadata": {
  "kernelspec": {
   "display_name": "benchmarks",
   "language": "python",
   "name": "python3"
  },
  "language_info": {
   "codemirror_mode": {
    "name": "ipython",
    "version": 3
   },
   "file_extension": ".py",
   "mimetype": "text/x-python",
   "name": "python",
   "nbconvert_exporter": "python",
   "pygments_lexer": "ipython3",
   "version": "3.12.4"
  }
 },
 "nbformat": 4,
 "nbformat_minor": 2
}
