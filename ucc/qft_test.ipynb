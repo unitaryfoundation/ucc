{
 "cells": [
  {
   "cell_type": "code",
   "execution_count": 1,
   "id": "520cbc1e-cd06-479e-a4e2-60e3c2f180b4",
   "metadata": {},
   "outputs": [],
   "source": [
    "from qiskit_ibm_runtime.fake_provider import FakeTorino\n",
    "from qiskit import QuantumCircuit\n",
    "\n",
    "import time\n",
    "import numpy as np"
   ]
  },
  {
   "cell_type": "code",
   "execution_count": 2,
   "id": "7cada50d-af51-45e6-883d-06096868d54b",
   "metadata": {},
   "outputs": [],
   "source": [
    "#Define custom qiskit backend of a line of qubits\n",
    "from qiskit.providers.fake_provider import GenericBackendV2\n",
    "from qiskit.transpiler import CouplingMap\n",
    "\n",
    "num_qubits_backend = 8\n",
    "# coupling_map = CouplingMap.from_line(num_qubits_backend)\n",
    "#Ladder of qubits\n",
    "couplinglist = []\n",
    "for i in range(0,num_qubits_backend-1, 2):\n",
    "    if i+2 < num_qubits_backend:\n",
    "        couplinglist.append([i,i+2])\n",
    "    if i+3 < num_qubits_backend:\n",
    "        couplinglist.append([i+1,i+3])\n",
    "    if i+1 < num_qubits_backend:\n",
    "        couplinglist.append([i,i+1])\n",
    "\n",
    "coupling_map = CouplingMap(couplinglist=couplinglist)\n",
    "\n",
    "line_backend = GenericBackendV2(num_qubits=num_qubits_backend, coupling_map=coupling_map, basis_gates=['cx', 'rz', 'rx', 'ry', 'h'])"
   ]
  },
  {
   "cell_type": "code",
   "execution_count": 3,
   "id": "870be2ee-be0b-45ea-8ea3-7f66d96da437",
   "metadata": {},
   "outputs": [
    {
     "name": "stdout",
     "output_type": "stream",
     "text": [
      "[[0, 2], [1, 3], [0, 1], [2, 4], [3, 5], [2, 3], [4, 6], [5, 7], [4, 5], [6, 7]]\n"
     ]
    }
   ],
   "source": [
    "print(coupling_map)"
   ]
  },
  {
   "cell_type": "code",
   "execution_count": 4,
   "id": "651f17a2-734b-4606-9a0a-914bb371ea02",
   "metadata": {},
   "outputs": [],
   "source": [
    "#QFT circuit\n",
    "num_qubits = 8\n",
    "qc = QuantumCircuit(num_qubits)\n",
    "for i in range(num_qubits):\n",
    "    qc.h(i)\n",
    "    for j in range(i+1, num_qubits):\n",
    "        qc.cp(np.pi/(2**(j-i)), j, i)"
   ]
  },
  {
   "cell_type": "code",
   "execution_count": 5,
   "id": "d017c819-2a5a-48aa-aab8-7cbb4d085154",
   "metadata": {},
   "outputs": [
    {
     "name": "stdout",
     "output_type": "stream",
     "text": [
      "Time taken:  0.04758286476135254\n",
      "OrderedDict({'rz': 126, 'cx': 84, 'rx': 50, 'ry': 36, 'h': 27})\n",
      "Number of 2-qubit gates:  84\n",
      "Number of 1-qubit gates:  239\n"
     ]
    }
   ],
   "source": [
    "from qiskit.transpiler.preset_passmanagers import generate_preset_pass_manager\n",
    "default_pm = generate_preset_pass_manager(backend=line_backend, optimization_level=3)\n",
    "\n",
    "t1 = time.time()\n",
    "default_qc = default_pm.run(qc)\n",
    "t2 = time.time()\n",
    "print(\"Time taken: \", t2-t1)\n",
    "\n",
    "# Get gate counts\n",
    "gate_counts = default_qc.count_ops()\n",
    "print(gate_counts)\n",
    "print(\"Number of 2-qubit gates: \", gate_counts.get(\"cz\", 0) + gate_counts.get(\"cx\", 0)) \n",
    "print(\"Number of 1-qubit gates: \", gate_counts.get(\"rz\", 0) + gate_counts.get(\"rx\", 0) + gate_counts.get(\"ry\", 0) + gate_counts.get(\"h\", 0))\n",
    "\n",
    "# default_qc.draw()"
   ]
  },
  {
   "cell_type": "code",
   "execution_count": 6,
   "id": "716fc6b1-7b1f-4c89-ae3c-9dd32d4fbe0e",
   "metadata": {},
   "outputs": [
    {
     "name": "stdout",
     "output_type": "stream",
     "text": [
      "Time taken:  0.01293802261352539\n",
      "OrderedDict({'cx': 56, 'rz': 36, 'ry': 8})\n",
      "Number of 2-qubit gates:  56\n",
      "Number of 1-qubit gates:  44\n"
     ]
    }
   ],
   "source": [
    "#Test with UCC transpiler\n",
    "import sys\n",
    "sys.path.append('../')\n",
    "\n",
    "import ucc.transpilers.ucc_defaults as ucc_defaults\n",
    "\n",
    "ucc_transpiler = ucc_defaults.UCCDefault1()\n",
    "t1 = time.time()\n",
    "ucc_qc = ucc_transpiler.run(qc)\n",
    "t2 = time.time()\n",
    "print(\"Time taken: \", t2-t1)\n",
    "\n",
    "# Get gate counts\n",
    "gate_counts = ucc_qc.count_ops()\n",
    "print(gate_counts)\n",
    "print(\"Number of 2-qubit gates: \", gate_counts.get(\"cx\", 0))\n",
    "print(\"Number of 1-qubit gates: \", gate_counts.get(\"rz\", 0) + gate_counts.get(\"rx\", 0) + gate_counts.get(\"ry\", 0) + gate_counts.get(\"h\", 0))"
   ]
  },
  {
   "cell_type": "code",
   "execution_count": null,
   "id": "86dd24d0-40d5-471e-a2df-7630adeb96d4",
   "metadata": {},
   "outputs": [],
   "source": []
  }
 ],
 "metadata": {
  "kernelspec": {
   "display_name": "Python (.venv)",
   "language": "python",
   "name": ".venv"
  },
  "language_info": {
   "codemirror_mode": {
    "name": "ipython",
    "version": 3
   },
   "file_extension": ".py",
   "mimetype": "text/x-python",
   "name": "python",
   "nbconvert_exporter": "python",
   "pygments_lexer": "ipython3",
   "version": "3.12.4"
  }
 },
 "nbformat": 4,
 "nbformat_minor": 5
}
